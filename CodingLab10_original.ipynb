{
 "cells": [
  {
   "cell_type": "markdown",
   "metadata": {},
   "source": [
    "_Neural Data Science_\n",
    "\n",
    "Lecturer: Prof. Dr. Philipp Berens\n",
    "\n",
    "Tutors: Jonas Beck, Ziwei Huang, Rita González Márquez\n",
    "\n",
    "Summer term 2022\n",
    "\n",
    "Names: FILL IN YOUR NAMES HERE"
   ]
  },
  {
   "cell_type": "markdown",
   "metadata": {},
   "source": [
    "# Coding Lab 10 \n",
    "\n",
    "Introduction into the analysis of neural morphologies (10 pts + bonus 3 pts)"
   ]
  },
  {
   "cell_type": "markdown",
   "metadata": {},
   "source": [
    "## Introduction\n",
    "\n",
    "The anatomical shape of a neuron — its morphology — has fascinated scientists ever since the pioneering work of Cajal (Ramon y Cajal, 1911). A neuron's dendritic and axonal processes naturally decide what other neurons it can connect to, hence, its shape plays an important role for its function in the circuit. In particular, different functional types of neurons have fundamentally different morphologies.\n",
    "\n",
    "This notebook will introduce you to the analysis of neural morphologies using the dendrites of over $500$ retinal ganglion cells. The aim is to teach you two different ways of representing morphologies and give you an impression of their repsective strengths and weaknesses.\n",
    "\n",
    "### 1. Data\n",
    "\n",
    "The data set contains morphological reconstructions of $599$ retinal ganglion cell dendrites with cell type label and projection target to either the parabigeminal (Pbg) or the pulvinar nucleus (LP)([Reinhard et al. (2019)](https://elifesciences.org/articles/50697)). \n",
    "Here we only keep cells that map to clusters with more than six cells per cluster which leads to $550$ remaining reconstructions. \n",
    "\n",
    "Download the data file `nda_ex_10_data.zip` from ILIAS and unzip it in a subfolder `../data/`\n",
    "\n",
    "\n",
    "### Software\n",
    "\n",
    "We will use MorphoPy (Laturnus, et al., 2020; https://github.com/berenslab/MorphoPy) for this exercise. We recommend to use the Github version, as it is more up-to-date:\n",
    "\n",
    "```\n",
    "git clone https://github.com/berenslab/MorphoPy\n",
    "pip install -e MorphoPy\n",
    "```\n",
    "\n",
    "Most of the computations and even some plottings will be handled by MorphoPy. You can learn more about MorphoPy's APIs in this [tutorial](https://nbviewer.jupyter.org/github/berenslab/MorphoPy/blob/master/notebooks/MORPHOPY%20Tutorial.ipynb). "
   ]
  },
  {
   "cell_type": "code",
   "execution_count": null,
   "metadata": {},
   "outputs": [],
   "source": [
    "import pandas as pd\n",
    "import numpy as np\n",
    "import os\n",
    "\n",
    "from morphopy.computation import file_manager\n",
    "from morphopy.neurontree.plotting import show_threeview\n",
    "from morphopy.neurontree import NeuronTree as nt\n",
    "\n",
    "import warnings\n",
    "warnings.filterwarnings(\"ignore\")\n",
    "\n",
    "import matplotlib.pyplot as plt\n",
    "import seaborn as sns\n",
    "%matplotlib inline\n",
    "\n",
    "sns.set_context('notebook')"
   ]
  },
  {
   "cell_type": "markdown",
   "metadata": {},
   "source": [
    "# Inspect the raw data"
   ]
  },
  {
   "cell_type": "markdown",
   "metadata": {},
   "source": [
    "#### File format\n",
    "\n",
    "Morphological reconstructions are typically stored in the SWC file format, a simple text file that holds node information in each row and connects nodes through the `parent` node id. A parent id of -1 indicates no parent, so the starting point of the tree graph, also called the root. \n",
    "The `type` label indicates the node type (1: somatic , 2: axonal, 3: dendritic (basal), 4: dendritic (apical), 5+: custom).\n",
    "The code snippet below loads in one swc file and prints its head. \n",
    "\n",
    "You can find a more detailed specification of SWC and SWC+ [here](http://www.neuronland.org/NLMorphologyConverter/MorphologyFormats/SWC/Spec.html) and [here](https://neuroinformatics.nl/swcPlus/).\n",
    "\n"
   ]
  },
  {
   "cell_type": "code",
   "execution_count": null,
   "metadata": {
    "code_folding": []
   },
   "outputs": [],
   "source": [
    "def load_swc(filepath):\n",
    "    \"\"\" \n",
    "    Loads in the swc located at filepath as a pandas dataframe.\n",
    "    \"\"\"\n",
    "    swc = pd.read_csv(filepath, delim_whitespace=True, comment='#',\n",
    "                      names=['n', 'type', 'x', 'y', 'z', 'radius', 'parent'], index_col=False)\n",
    "    return swc\n",
    "\n",
    "colors = sns.color_palette('rainbow_r', n_colors=14)"
   ]
  },
  {
   "cell_type": "code",
   "execution_count": null,
   "metadata": {},
   "outputs": [],
   "source": [
    "PATH = '../data/nda_ex_10_data/'\n",
    "data_path = PATH + 'neurons/soma-centered/'\n",
    "filename = '0006_00535_4L_C02_01.swc'\n",
    "filepath = data_path + filename\n",
    "\n",
    "swc = load_swc(filepath)\n",
    "swc.head()"
   ]
  },
  {
   "cell_type": "markdown",
   "metadata": {},
   "source": [
    "The labels `x`, `y`, and `z` hold a node's 3D coordinate in tracing space (here in microns). For reasons of simplicity we will work with reconstructions that are soma centered in XY.\n",
    "\n",
    "The assigned cell type labels are stored in the file `rgc_labels.csv` and indexed by their `Cell_nr`. In this file you find three different cluster assignments: `clusterA` is the assignment of the authors (clus1 -- clus14), `clusterB` is the respective cluster identifier of the [Eyewire museum](http://museum.eyewire.org) (also see [Bae et al. 2018](https://www.sciencedirect.com/science/article/pii/S0092867418305725)), and `clusterC` are molecular or functional label names when available. \n",
    "We have formatted the cluster assignments of the authors (`clusterA`) into integer values and stored them in the column `cluster`, which we will use in the following."
   ]
  },
  {
   "cell_type": "code",
   "execution_count": null,
   "metadata": {},
   "outputs": [],
   "source": [
    "labels = pd.read_csv(PATH + \"rgc_labels.csv\", index_col=0)\n",
    "\n",
    "cluster_label, cluster_counts = np.unique(labels['cluster'], return_counts=True)\n",
    "labels.head()"
   ]
  },
  {
   "cell_type": "markdown",
   "metadata": {},
   "source": [
    "## Task 1: Plotting individual morphologies\n",
    "\n",
    "Load data using `file_manager` and plot individual morphologie using `show_threeview` of from `MorphoPy`. It plots all three planar views on the reconstruction. \n",
    "\n",
    "Here, XY shows the planar view on top of the retina, and Z denotes the location within the inner plexiform layer (IPL).\n",
    "\n",
    "Noted, by default, the `file_manager` loads data with `pca_rot=True` and `soma_center=True`. For the all the exercise in this Coding Lab, it's better to set both of them as `False`. \n",
    "\n",
    "*Grading: 2pts*"
   ]
  },
  {
   "cell_type": "code",
   "execution_count": null,
   "metadata": {},
   "outputs": [],
   "source": [
    "# get the list of file names\n",
    "files = list(os.walk(data_path))[0][2] \n",
    "files.sort()\n",
    "\n",
    "ix = 19\n",
    "\n",
    "# insert your code here\n",
    "\n",
    "# --------------------------------------------\n",
    "# load example data (ix=19) with `file_manager` \n",
    "# from morphology (1 pt)\n",
    "# --------------------------------------------\n",
    "\n",
    "\n",
    "# ------------------------------------\n",
    "# plot all three planar views (0.5pts)\n",
    "# ------------------------------------"
   ]
  },
  {
   "cell_type": "markdown",
   "metadata": {},
   "source": [
    "SWC files are a compact way for storing neural morphologies but their graph structure makes them difficult to handle for current machine learning methods. We, therefore, need to convert our reconstructions into a reasonable vector-like representations. \n",
    "\n",
    "Here we will present two commonly chosen representations: Morphometric statistics and density maps\n"
   ]
  },
  {
   "cell_type": "code",
   "execution_count": null,
   "metadata": {},
   "outputs": [],
   "source": [
    "# load all reconstructions. Note: files are sorted by cell number\n",
    "def load_files(path):\n",
    "    \"\"\" Returns an object array of NeuronTrees containing all reconstructions at `path`. \n",
    "    The reconstructions are sorted ascendingly by their filename.\"\"\"\n",
    "    neurons = []\n",
    "    path, _, files = list(os.walk(path))[0]\n",
    "    files.sort()\n",
    "\n",
    "    for f in files:\n",
    "\n",
    "        # insert your code here\n",
    "        \n",
    "        # --------------------------------------------\n",
    "        # load data with `file_manager` from morphology\n",
    "        # for all data (0.5 pts)\n",
    "        # --------------------------------------------    \n",
    "\n",
    "\n",
    "        neurons.append(N)\n",
    "    return neurons\n",
    "\n",
    "neurons = load_files(data_path)\n",
    "print(\"Number of reconstructions: \", len(neurons))"
   ]
  },
  {
   "cell_type": "markdown",
   "metadata": {},
   "source": [
    "## Task 2: Morphometric statistics\n",
    "\n",
    "Morphometric statistics denote a set of hand-crafted single valued features such as `soma radius`, `number of tips` or `average branch angle`. For a more detailed explanation of morphometrics please refer to the [MorphoPy documentation](https://github.com/berenslab/MorphoPy#morphometric-statistics).\n",
    "\n",
    "*Grading: 3pts*\n",
    "\n",
    "First, you should compute this representation for each cell using the function `compute_morphometric_statistics` of the MorphoPy package which computes a predefined set of $28$ statistics. (1pt)\n",
    "\n"
   ]
  },
  {
   "cell_type": "code",
   "execution_count": null,
   "metadata": {
    "scrolled": true
   },
   "outputs": [],
   "source": [
    "from morphopy.computation.feature_presentation import compute_morphometric_statistics\n",
    "\n",
    "# insert your code here\n",
    "\n",
    "# ---------------------------------------------------------------------\n",
    "# 1. extraction of morphometric statistics on entire data set (0.5 pts)\n",
    "# ---------------------------------------------------------------------\n",
    "\n",
    "ms_list =\n",
    "\n",
    "# -----------------------------------------------------------------------------------\n",
    "# 2. concatenate data into one pd.DataFrame and set the `Cell_nr`` as index (0.5 pts)\n",
    "# -----------------------------------------------------------------------------------\n",
    "\n",
    "morphometric_statistics = \n",
    "morphometric_statistics.head()"
   ]
  },
  {
   "cell_type": "markdown",
   "metadata": {},
   "source": [
    "Now visualize the data: Make a scatter plot for each morphometric statistics for each cluster. (1pt) "
   ]
  },
  {
   "cell_type": "code",
   "execution_count": null,
   "metadata": {},
   "outputs": [],
   "source": [
    "# visualize. Which are the most discriminative ones?\n",
    "\n",
    "features = morphometric_statistics.columns.values\n",
    "\n",
    "fig, axes = plt.subplots(4,7, figsize=(25,10), sharex = True)\n",
    "axes = axes.flatten()\n",
    "\n",
    "for k, feature in enumerate(features):\n",
    "    \n",
    "    for l in np.unique(labels['cluster']):\n",
    "       \n",
    "        label_index = (labels['cluster'] == l).values\n",
    "\n",
    "        # insert your code here\n",
    "\n",
    "        # ----------------------\n",
    "        # finish the plot (1 pt)\n",
    "        # ----------------------\n",
    "    \n",
    "    axes[k].set_title(feature.replace(\"_\", \" \"))\n",
    "axes[-1].set_xticks(range(1,15))\n",
    "axes[-1].set_xlabel('Cluster id')\n",
    "sns.despine()"
   ]
  },
  {
   "cell_type": "markdown",
   "metadata": {},
   "source": [
    "**Q3.a:** Which statistics separate clusters well? Which can be removed? (tips: there are 5 uninformative features)  <mark>(1pt)</mark> \n",
    "\n",
    "**Answer:** \n",
    "\n",
    "**Q3.b:** More generally, what do morphometric statistics capture well? What are their advantages, what might be their downsides? Briefly explain. (bonus: 0.5pt)\n",
    "\n",
    "**Answer:** "
   ]
  },
  {
   "cell_type": "code",
   "execution_count": null,
   "metadata": {},
   "outputs": [],
   "source": [
    "# For further analysis we will remove uninformative features and z-score along each statistic\n",
    "\n",
    "# -----------------------------------------------------------\n",
    "# Complete the list with the uninformative features from Q3.a\n",
    "# -----------------------------------------------------------\n",
    "\n",
    "features_to_drop = []\n",
    "\n",
    "morphometric_data = morphometric_statistics.drop(features_to_drop, axis=1)\n",
    "\n",
    "# z-score morphometrics and remove nans and uninformative features\n",
    "morphometric_data = (morphometric_data - morphometric_data.mean())/morphometric_data.std()\n",
    "morphometric_data[morphometric_data.isna()] = 0\n",
    "morphometric_data = morphometric_data.values"
   ]
  },
  {
   "cell_type": "markdown",
   "metadata": {},
   "source": [
    "## Task 3: Density maps\n",
    "\n",
    "Density maps project a neuron's 3D point cloud ($x$, $y$, $z$) onto a plane or an axis, and bin the projected point cloud into a fixed number of bins. Hereby, the binning controls how much global or local information is kept, which majorly affects the results.\n",
    "While density maps ignore the connectivity between nodes and only assign value to neurite density, this representation can be powerful, when cell type and location in the brain area are highly correlated. \n",
    "\n",
    "**Exercise:** Compute the density maps of all neurons onto all cardinal planes and axes using the method `compute_density_maps`. You can manipulate the parameters for the density maps via the dictonary `config`. \n",
    "Make sure that you normalize the density maps globally and bin each direction into $20$ bins.\n",
    "You are welcome to explore, how the different projections look like but we will only use the z-projection for further analysis.\n",
    "\n",
    "\n",
    "Possible parameters to pass are:\n",
    "\n",
    "- distance: (default=1, in microns) determines the resampling distance.\n",
    "- bin_size: (default=20, in microns). If set the number of bins will be computed such that one bin \n",
    "spans `bin_size` microns. This is overwritten when `n_bins_x/y/z` is set!\n",
    "- n_bins_x/y/z: (default=None) specifies the number of bins for each dimension. If set it will overwrite the \n",
    "`bin_size` flag.\n",
    "- density: (default=True) bool to specify if a density or counts are returned.\n",
    "- smooth: (default=True) bool to trigger Gaussian smoothing.\n",
    "- sigma: (default=1) determines std of the Gaussian used for smoothing. The bigger the sigma the more smoothing occurs. If smooth is set to False this parameter is ignored. \n",
    "- r_min_x/y/z: (in microns) minimum range for binning of x, y, and z. This value will correspond to the \n",
    "minimal histogram edge. \n",
    "- r_max_x/y/z: (in microns) maximum range for binning for x, y, and z. This value will correspond to the \n",
    "maximal histogram edge. \n",
    "\n",
    "*Grading: 3pts*"
   ]
  },
  {
   "cell_type": "code",
   "execution_count": null,
   "metadata": {},
   "outputs": [],
   "source": [
    "# insert your code here\n",
    "\n",
    "# ---------------------------------------------------------------------------------\n",
    "# Find the minimal and maximal x, y,z - coordinates in the data set to normalize \n",
    "# the density maps globally which corresponds to r_min_x/y/z and r_max_x/y/z (1 pt)\n",
    "# ---------------------------------------------------------------------------------\n",
    "\n",
    "minimal_coordinates = \n",
    "maximal_coordinates =\n",
    "\n",
    "print('Minimal coordinates: ', minimal_coordinates)\n",
    "print('Maximal coordinates: ', maximal_coordinates)"
   ]
  },
  {
   "cell_type": "code",
   "execution_count": null,
   "metadata": {},
   "outputs": [],
   "source": [
    "from morphopy.computation.feature_presentation import compute_density_maps\n",
    "\n",
    "# ------------------------------\n",
    "# complete the config dict (1pt)\n",
    "# ------------------------------\n",
    "\n",
    "config_global = dict(distance=,\n",
    "                     n_bins_x=,\n",
    "                     n_bins_y=, \n",
    "                     n_bins_z=, \n",
    "               density=True,smooth=True, sigma=1, \n",
    "               r_max_x=maximal_coordinates[0], r_max_y=maximal_coordinates[1], r_max_z=maximal_coordinates[2], \n",
    "               r_min_x=minimal_coordinates[0], r_min_y=minimal_coordinates[1], r_min_z=minimal_coordinates[2])\n",
    "\n",
    "density_maps= [compute_density_maps(n, config_params=config_global) for n in neurons] # this line might take a while\n",
    "\n",
    "# extract the z density map\n",
    "DM_Z = np.array([dm['z_proj']['data'] for dm in density_maps])"
   ]
  },
  {
   "cell_type": "code",
   "execution_count": null,
   "metadata": {},
   "outputs": [],
   "source": [
    "# plot z-density maps of 5 randomly chosen individual cells\n",
    "random_index = np.random.choice(range(len(neurons)), size=5, replace=False)\n",
    "\n",
    "fig, axes = plt.subplots(1,5,figsize=(12,3), sharey=True)\n",
    "for k, ix in enumerate(random_index):\n",
    "    axes[k].plot(DM_Z[ix,:],range(20), c='lightgrey')\n",
    "    axes[k].set_title('Cluster %i'%labels.iloc[ix]['cluster'])\n",
    "sns.despine()\n",
    "axes[0].set_ylabel('Bins')"
   ]
  },
  {
   "cell_type": "code",
   "execution_count": null,
   "metadata": {},
   "outputs": [],
   "source": [
    "\n",
    "fig, axes = plt.subplots(1, 14, figsize=(21,3), sharey=True)\n",
    "axes = axes.flatten()\n",
    "\n",
    "# insert your code here\n",
    "\n",
    "# ---------------------------------------------------\n",
    "# plot the Z-density map sorted by class label (1 pt)\n",
    "# ---------------------------------------------------\n",
    "\n",
    "sns.despine()\n",
    "axes[0].set_yticks([0,5,10,15,19])\n",
    "axes[0].set_yticklabels(density_maps[0]['z_proj']['edges'][0][[0,5,10,15,19]].astype(int))\n",
    "_ = axes[0].set_ylabel('Z [microns]')"
   ]
  },
  {
   "cell_type": "markdown",
   "metadata": {},
   "source": [
    "## 2D embedding using t-SNE\n",
    "\n",
    "\n",
    "Embed both data, the morphometric statistics and the density maps, in 2D using t-SNE and color each embedded point by its cluster assignment.\n",
    "\n",
    "We use `openTSNE` for this part: `pip install opentsne`\n",
    "\n",
    "*Grading: 2pts*"
   ]
  },
  {
   "cell_type": "code",
   "execution_count": null,
   "metadata": {},
   "outputs": [],
   "source": [
    "from openTSNE import TSNE\n",
    "\n",
    "# insert your code here\n",
    "\n",
    "# ----------------------------------------------------------------------\n",
    "# Fit t-SNE with morphometric statistics and density maps (0.5 + 0.5 pt)\n",
    "# ----------------------------------------------------------------------\n",
    "\n",
    "tsne = TSNE(\n",
    "    perplexity=100,\n",
    "    initialization='pca',\n",
    "    metric=\"euclidean\",\n",
    "    n_jobs=20,\n",
    "    random_state=17,\n",
    ")\n",
    "\n",
    "tsne_fit_morph = tsne.fit(morphometric_data)\n",
    "tsne_fit_dm = tsne.fit(DM_Z)"
   ]
  },
  {
   "cell_type": "code",
   "execution_count": null,
   "metadata": {
    "code_folding": []
   },
   "outputs": [],
   "source": [
    "fig, axes = plt.subplots(1,2,figsize=(15,5))\n",
    "\n",
    "# insert your code here\n",
    "\n",
    "# ----------------------------------------------------------------------------------\n",
    "# plot tsne fit of morpometric statistics, color-coded with cluster labels (0.5 pts)\n",
    "# ----------------------------------------------------------------------------------\n",
    "\n",
    "\n",
    "sns.despine()\n",
    "\n",
    "axes[0].set_xlabel('t-SNE 1 [a.u.]')\n",
    "axes[0].set_ylabel('t-SNE 2 [a.u.]')\n",
    "\n",
    "axes[0].set_title('Morphometric statistics')\n",
    "\n",
    "# ------------------------------------------------------------------------------------\n",
    "# plot tsne fit of z-projected density map , color-coded with cluster labels (0.5 pts)\n",
    "# ------------------------------------------------------------------------------------\n",
    "\n",
    "sns.despine()\n",
    "\n",
    "axes[1].set_xlabel('t-SNE 1 [a.u.]')\n",
    "axes[1].set_ylabel('t-SNE 2 [a.u.]')\n",
    "plt.legend(frameon=False, bbox_to_anchor=(1,1.1))\n",
    "axes[1].set_title('Z density maps')\n",
    "\n",
    "plt.suptitle('t-SNE embedding')"
   ]
  },
  {
   "cell_type": "markdown",
   "metadata": {},
   "source": [
    "## Bonus: Hierarchical clustering"
   ]
  },
  {
   "cell_type": "markdown",
   "metadata": {},
   "source": [
    "Typically, we do not have access to ground truth cell type labels but we need to infer the number of classes that are present in the data. In the following we want to explore hierarchical clustering based on morphometric statistics and on density maps. Assume that you know the number of existing cluster ($N_{clus}=14$). Visualize the clustering dendrogram (use seaborn's `clustermap` method) and then cluster the data (using agglomerative clustering and Ward's method) and assess the cluster label correspondence with ground truth labels using [two custer quality metrics](https://scikit-learn.org/stable/modules/clustering.html#clustering-evaluation) of your choice.\n",
    "\n",
    "*Bonus: 2.5 pts*"
   ]
  },
  {
   "cell_type": "markdown",
   "metadata": {},
   "source": [
    "### Clustering on morphometric statistics"
   ]
  },
  {
   "cell_type": "code",
   "execution_count": null,
   "metadata": {},
   "outputs": [],
   "source": [
    "true_labels = labels['cluster'].values\n",
    "sns.clustermap(morphometric_data, method='ward',\n",
    "               row_colors=[colors[t-1] for t in true_labels],\n",
    "               cbar_pos=(1., 0.6, 0.05, 0.18), \n",
    "               xticklabels = [f.replace(\"_\", \" \").capitalize() for f in features])"
   ]
  },
  {
   "cell_type": "code",
   "execution_count": null,
   "metadata": {},
   "outputs": [],
   "source": [
    "from sklearn.cluster import AgglomerativeClustering\n",
    "from sklearn.metrics import mutual_info_score, adjusted_rand_score\n",
    "\n",
    "# insert your code here\n",
    "\n",
    "# --------------------------------------------------------------\n",
    "# Do hierarchical clustering with morphometric statistics (1 pt)\n",
    "# --------------------------------------------------------------\n",
    "\n",
    "agglom_morph = \n",
    "\n",
    "print('Mutual information score:',  mutual_info_score(labels['cluster'].values, agglom_morph.labels_))\n",
    "print('Adjusted rand index: ', adjusted_rand_score(labels['cluster'].values, agglom_morph.labels_))"
   ]
  },
  {
   "cell_type": "markdown",
   "metadata": {},
   "source": [
    "### Clustering on density maps"
   ]
  },
  {
   "cell_type": "code",
   "execution_count": null,
   "metadata": {},
   "outputs": [],
   "source": [
    "sns.clustermap(DM_Z, method='ward', \n",
    "               row_cluster=True, \n",
    "               row_colors=[colors[t-1] for t in true_labels], \n",
    "               cbar_pos=(1., 0.6, 0.05, 0.18), \n",
    "               xticklabels=['Bin %i'%i for i in range(1,21)])"
   ]
  },
  {
   "cell_type": "code",
   "execution_count": null,
   "metadata": {},
   "outputs": [],
   "source": [
    "# insert your code here\n",
    "\n",
    "# --------------------------------------------------------------\n",
    "# Do hierarchical clustering with density map (1 pt)\n",
    "# --------------------------------------------------------------\n",
    "\n",
    "agglom_dm = \n",
    "\n",
    "print('Mutual information score:',  mutual_info_score(labels['cluster'].values, agglom_dm.labels_))\n",
    "print('Adjusted rand index: ', adjusted_rand_score(labels['cluster'].values, agglom_dm.labels_))"
   ]
  },
  {
   "cell_type": "markdown",
   "metadata": {},
   "source": [
    "Now plot the t-SNE embeddings from before and label each embedding with its true and, next to it, with its newly inferred cluster labels from the agglomerative clustering. "
   ]
  },
  {
   "cell_type": "code",
   "execution_count": null,
   "metadata": {},
   "outputs": [],
   "source": [
    "# plot t-sne with cluster labels of both representations\n",
    "\n",
    "new_cluster_colors = sns.color_palette('tab20', n_colors=14)\n",
    "\n",
    "### density maps ######\n",
    "\n",
    "fig, axes = plt.subplots(1,2, figsize=(12,4))\n",
    "axes = axes.flatten()\n",
    "# plot the true cluster labels \n",
    "for k, l in enumerate(np.unique(labels['cluster'])):\n",
    "    label_index = (labels['cluster'] == l).values\n",
    "    axes[0].scatter(tsne_fit_dm[label_index,0], tsne_fit_dm[label_index,1], c=[colors[k]], label='Cluster %i'%l)\n",
    "\n",
    "axes[0].set_xlabel('t-SNE 1 [a.u.]')\n",
    "axes[0].set_ylabel('t-SNE 2 [a.u.]')\n",
    "axes[0].set_title('True cluster')\n",
    "\n",
    "# plot the new clustering\n",
    "for k,l in enumerate(np.unique(agglom_dm.labels_)):\n",
    "    label_index = agglom_dm.labels_ == l\n",
    "    axes[1].scatter(tsne_fit_dm[label_index,0], tsne_fit_dm[label_index,1], c=[new_cluster_colors[k]])\n",
    "axes[1].set_xlabel('t-SNE 1 [a.u.]')\n",
    "axes[1].set_ylabel('t-SNE 2 [a.u.]')\n",
    "axes[1].set_title('Inferred cluster')\n",
    "sns.despine()\n",
    "plt.suptitle('Z-density map')\n",
    "\n",
    "### morphometrics ######\n",
    "\n",
    "fig, axes = plt.subplots(1,2, figsize=(12,4), sharex=True)\n",
    "axes = axes.flatten()\n",
    "\n",
    "# plot the true cluster labels \n",
    "for k, l in enumerate(np.unique(labels['cluster'])):\n",
    "    label_index = (labels['cluster'] == l).values\n",
    "    axes[0].scatter(tsne_fit_morph[label_index,0], tsne_fit_morph[label_index,1], c=[colors[k]], label='Cluster %i'%l)\n",
    "\n",
    "axes[0].set_xlabel('t-SNE 1 [a.u.]')\n",
    "axes[0].set_ylabel('t-SNE 2 [a.u.]')\n",
    "axes[0].set_title('True cluster')\n",
    "\n",
    "# plot the new clustering\n",
    "for k,l in enumerate(np.unique(agglom_morph.labels_)):\n",
    "    label_index = agglom_morph.labels_ == l\n",
    "    axes[1].scatter(tsne_fit_morph[label_index,0], tsne_fit_morph[label_index,1], c=[new_cluster_colors[k]])\n",
    "\n",
    "axes[1].set_xlabel('t-SNE 1 [a.u.]')\n",
    "axes[1].set_ylabel('t-SNE 2 [a.u.]')\n",
    "axes[1].set_title('Inferred cluster')\n",
    "sns.despine()\n",
    "plt.suptitle('Morphometric statistics')"
   ]
  },
  {
   "cell_type": "markdown",
   "metadata": {},
   "source": [
    "**Q:** Which representation allows for better recovery of the cell type labels? Why is that so? (0.5pt)\n",
    "\n",
    "**Answer:** "
   ]
  },
  {
   "cell_type": "markdown",
   "metadata": {},
   "source": [
    "## Extra: Predicting the projection site"
   ]
  },
  {
   "cell_type": "markdown",
   "metadata": {},
   "source": [
    "Instead of its cell type, we now want to predict each cell's projection site in the thalamus which is stored in the column `labels['projection_site']`. Fit a logistic regression on both morphological representations and report its average cross validated (cv=5) prediction accuracy for each. Which representation works better to recover the prediction target? Which features are most relevant for that prediction?\n",
    "\n",
    "\n",
    "You can use `LogisticRegressionCV` of the scikit-learn library directly. Since the classes are imbalanced make sure to report the balanced prediction accuracy. To understand the relevance of individual features plot the fitted linear coefficients. "
   ]
  },
  {
   "cell_type": "code",
   "execution_count": null,
   "metadata": {},
   "outputs": [],
   "source": [
    "from sklearn.linear_model import LogisticRegressionCV\n",
    "\n",
    "\n",
    "# Fit logistic regression on density maps\n",
    "lr_dm = LogisticRegressionCV(scoring='balanced_accuracy')\n",
    "lr_dm.fit(DM_Z, labels['projection_site'].values)\n",
    "print('Average projection site prediction accuracy on density maps: %i percent'%(lr_dm.score(DM_Z, labels['projection_site'].values)*100))\n",
    "\n",
    "\n",
    "# Fit logistic regression on morphometric data\n",
    "lr_morph = LogisticRegressionCV(scoring='balanced_accuracy')\n",
    "lr_morph.fit(morphometric_data, labels['projection_site'].values)\n",
    "print('Average projection site prediction accuracy on morphometric data: %i percent'%(lr_morph.score(morphometric_data, labels['projection_site'].values)*100))"
   ]
  },
  {
   "cell_type": "markdown",
   "metadata": {},
   "source": [
    "While Z density maps allow for better recovery of cell type labels, they are worse than morphometric statistics on predicting the projection target. "
   ]
  },
  {
   "cell_type": "code",
   "execution_count": null,
   "metadata": {},
   "outputs": [],
   "source": [
    "lr = lr_morph\n",
    "\n",
    "plt.plot(lr.coef_.T)\n",
    "plt.gca().set_xticks(range(28))\n",
    "_ = plt.gca().set_xticklabels([f.replace(\"_\", \" \").capitalize() for f in features], rotation=90)\n",
    "plt.plot(range(lr.n_features_in_), [0]*lr.n_features_in_, c='grey', ls='--')\n",
    "sns.despine()\n",
    "plt.ylabel('Coefficient value')\n",
    "plt.title('Linear weights vector')"
   ]
  },
  {
   "cell_type": "markdown",
   "metadata": {},
   "source": [
    "**Q:** Which morphometrics are informative on the projection site?\n",
    "\n",
    "**Answer:** All that are related to size. The cells projecting to Pbg tend to be bigger in dendritic diameter ($width \\times depth$) and have wider branch angles. This is also in line with what Reinhard et al. find."
   ]
  },
  {
   "cell_type": "markdown",
   "metadata": {},
   "source": [
    "## Further references\n",
    "\n",
    "Other ways to represent and compare morphologies are\n",
    "* Persistence: [Description](https://link.springer.com/article/10.1007/s12021-017-9341-1) and [application on somatosensory pyramidal cell dendrites](https://academic.oup.com/cercor/article/29/4/1719/5304727) by Kanari et al. 2018\n",
    "\n",
    "* Tree edit distance: [Heumann et al. 2009](https://link.springer.com/article/10.1007/s12021-009-9051-4)\n",
    "\n",
    "* Sequential encoding inspired by BLAST: [Encoding](https://link.springer.com/article/10.1186/s12859-015-0604-2) and [similarity analysis on cortical dendrites](https://link.springer.com/article/10.1186/s12859-015-0605-1) by Gilette et al. 2015\n",
    "\n",
    "* Vector point clouds: [BlastNeuron: Wan et al. 2015](https://link.springer.com/article/10.1007/s12021-015-9272-7)"
   ]
  },
  {
   "cell_type": "code",
   "execution_count": null,
   "metadata": {},
   "outputs": [],
   "source": []
  }
 ],
 "metadata": {
  "interpreter": {
   "hash": "4a52f57b56c27f38fc3d95daa57af6da3929fe8541a384ec0d11efb6a1b206eb"
  },
  "kernelspec": {
   "display_name": "Python 3.10.0 64-bit ('base')",
   "language": "python",
   "name": "python3"
  },
  "language_info": {
   "codemirror_mode": {
    "name": "ipython",
    "version": 3
   },
   "file_extension": ".py",
   "mimetype": "text/x-python",
   "name": "python",
   "nbconvert_exporter": "python",
   "pygments_lexer": "ipython3",
   "version": "3.10.0"
  },
  "varInspector": {
   "cols": {
    "lenName": 16,
    "lenType": 16,
    "lenVar": 40
   },
   "kernels_config": {
    "python": {
     "delete_cmd_postfix": "",
     "delete_cmd_prefix": "del ",
     "library": "var_list.py",
     "varRefreshCmd": "print(var_dic_list())"
    },
    "r": {
     "delete_cmd_postfix": ") ",
     "delete_cmd_prefix": "rm(",
     "library": "var_list.r",
     "varRefreshCmd": "cat(var_dic_list()) "
    }
   },
   "types_to_exclude": [
    "module",
    "function",
    "builtin_function_or_method",
    "instance",
    "_Feature"
   ],
   "window_display": false
  }
 },
 "nbformat": 4,
 "nbformat_minor": 4
}
