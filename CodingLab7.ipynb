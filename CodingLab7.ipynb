{
 "cells": [
  {
   "cell_type": "markdown",
   "metadata": {},
   "source": [
    "_Neural Data Science_\n",
    "\n",
    "Lecturer: Prof. Dr. Philipp Berens\n",
    "\n",
    "Tutors: Jonas Beck, Ziwei Huang, Rita González Márquez\n",
    "\n",
    "Summer term 2022\n",
    "\n",
    "Name: FILL IN YOUR NAMES HERE\n",
    "\n",
    "# Coding Lab 7\n",
    "\n"
   ]
  },
  {
   "cell_type": "code",
   "execution_count": 1,
   "metadata": {},
   "outputs": [],
   "source": [
    "import seaborn as sns\n",
    "import matplotlib.pyplot as plt\n",
    "import matplotlib as mpl\n",
    "import numpy as np\n",
    "import scipy.optimize as opt\n",
    "import scipy.io as io\n",
    "import scipy as sp\n",
    "import scipy\n",
    "import random\n",
    "from math import e\n",
    "from numpy.random import poisson\n",
    "\n",
    "mpl.rc(\"savefig\", dpi=72)\n",
    "\n",
    "sns.set_style('whitegrid')\n",
    "%matplotlib inline"
   ]
  },
  {
   "cell_type": "markdown",
   "metadata": {},
   "source": [
    "## Task 1: Fit RF on simulated data\n",
    "\n",
    "We will start  with toy data generated from an LNP model neuron to make sure everything works right. The model LNP neuron consists of one Gaussian linear filter, an exponential nonlinearity and a Poisson spike count generator. We look at it in discrete time with time bins of width $\\delta t$. The model is:\n",
    "\n",
    "$$\n",
    "c_t \\sim Poisson(r_t)\\\\\n",
    "r_t = \\exp(w^T s_t) \\cdot \\Delta t \\cdot R\n",
    "$$\n",
    "\n",
    "Here, $c_t$ is the spike count in time window $t$ of length $\\Delta t$, $s_t$ is the stimulus and $w$ is the receptive field of the neuron. The receptive field variable `w` is 15 × 15 pixels and normalized to $||w||=1$. A stimulus frame is a 15 × 15 pixel image, for which we use uncorrelated checkerboard noise. R can be used to bring the firing rate into the right regime (e.g. by setting $R=50$).      \n",
    "\n",
    "For computational ease, we reformat the stimulus and the receptive field in a 225 by 1 array. The function ```sampleLNP``` can be used to generate data from this model. It returns a spike count vector `c` with samples from the model (dimensions: 1 by nT = $T/\\Delta t$), a stimulus matrix `s` (dimensions: 225 × nT) and the mean firing rate `r` (dimensions: nT × 1). \n",
    "\n",
    "Here we assume that the receptive field influences the spike count instantaneously just as in the above equations. Implement a Maximum Likelihood approach to fit the receptive field. \n",
    "\n",
    "To this end simplify and implement the log-likelihood function $L(w)$ and its gradient $\\frac{L(w)}{dw}$ with respect to $w$ (`logLikLnp`). The log-likelihood of the model is\n",
    "$$L(w) = \\log \\prod_t \\frac{r_t^{c_t}}{c_t!}\\exp(-r_t).$$\n",
    "\n",
    "Plot the true receptive field, a stimulus frame, the spike counts and the estimated receptive field. "
   ]
  },
  {
   "cell_type": "markdown",
   "metadata": {},
   "source": [
    "### Calculations \n",
    "\n",
    "Simplify the log likelihood analytically and derive the analytical solution for the gradient. (2 pts)\n",
    "\n",
    "See also: [How to use Latex in Jupyter notebook](https://linuxhint.com/use-latex-jupyter-notebook/).\n",
    "\n",
    "$$\n",
    "L(w) = \\log \\prod_t \\frac{r_t^{c_t}}{c_t!}\\exp(-r_t)\\\\\n",
    " = \\sum_t \\log \\frac{r_t^{c_t}}{c_t!}\\exp(-r_t)\\\\\n",
    " = \\sum_t \\log r_t^{c_t} - \\log c_t! + \\log\\exp(-r_t)\\\\\n",
    " = \\sum_t c_t \\log r_t - \\log c_t! - r_t\\\\\n",
    "$$\n",
    "\n",
    "Because $c_t!$ does not depend on $w$, we can move it to an additive constant. Using $r_t = \\exp(w^T s_t) dt R$ we obtain:\n",
    "\n",
    "$$\n",
    "L(w) = \\sum_t c_t (w^T s_t + dt R) - \\exp(w^T s_t)dt R + const_1.\\\\\n",
    "= \\sum_t c_t w^T s_t - \\exp(w^T s_t)dt R + const_2.\n",
    "$$\n",
    "\n",
    "Note that $s_t$ denotes a vector and $c_t$ a scalar, in slight abuse of notation.\n",
    "\n",
    "For the gradient:\n",
    "\n",
    "$$\n",
    "dL(w)/dw = \\sum_t c_t s_t - s_t \\exp(w^T s_t)dt R \\\\\n",
    "= \\sum_t (c_t - \\exp(w^T s_t)dt R)s_t\n",
    "$$\n",
    "\n",
    "This is interesting and makes intuitive sense: for the gradient, each stimulus frame is weighted by the difference between the observed and predicted count.\n",
    "\n"
   ]
  },
  {
   "cell_type": "markdown",
   "metadata": {},
   "source": [
    "### Generate data"
   ]
  },
  {
   "cell_type": "code",
   "execution_count": 2,
   "metadata": {},
   "outputs": [
    {
     "data": {
      "text/plain": [
       "0.0044444444444444444"
      ]
     },
     "execution_count": 2,
     "metadata": {},
     "output_type": "execute_result"
    },
    {
     "data": {
      "image/png": "[encoded data removed]",
      "text/plain": [
       "<Figure size 432x288 with 2 Axes>"
      ]
     },
     "metadata": {
      "needs_background": "light"
     },
     "output_type": "display_data"
    }
   ],
   "source": [
    "def gen_gauss_rf(D, width, center=(0,0)):\n",
    "    \n",
    "    sz = (D-1)/2\n",
    "    x, y = sp.mgrid[-sz: sz + 1, -sz: sz + 1]\n",
    "    x = x + center[0]\n",
    "    y = y + center[1]\n",
    "    w = np.exp(- (x ** 2/width + y ** 2 / width))\n",
    "    w = w / np.sum(w.flatten())\n",
    "    \n",
    "    return w\n",
    "\n",
    "w = gen_gauss_rf(15, 7, (1,1))\n",
    "sns.heatmap(w)\n",
    "w.mean()"
   ]
  },
  {
   "cell_type": "code",
   "execution_count": 3,
   "metadata": {},
   "outputs": [],
   "source": [
    "def sample_lnp(w, nT, dt, R, v):\n",
    "    '''Generate samples from an instantaneous LNP model neuron with \n",
    "    receptive field kernel w.\n",
    "\n",
    "    Parameters\n",
    "    ----------\n",
    "\n",
    "    w: np.array, (Dx * Dy, ) \n",
    "        (flattened) receptive field kernel. \n",
    "    \n",
    "    nT: int\n",
    "        number of time steps\n",
    "    \n",
    "    dt: float\n",
    "        duration of a frame in s\n",
    "    \n",
    "    R: float\n",
    "        rate parameter\n",
    "    \n",
    "    v: float\n",
    "        variance of the stimulus ensemble\n",
    "\n",
    "\n",
    "    Returns\n",
    "    -------\n",
    "\n",
    "    c: np.array, (nT, )\n",
    "        sampled spike counts in time bins\n",
    "    \n",
    "    r: np.array, (nT, )\n",
    "        mean rate in time bins\n",
    "        \n",
    "    s: np.array, (nT, Dx*Dy)\n",
    "        stimulus frames used\n",
    "\n",
    "    Note\n",
    "    ----\n",
    "\n",
    "    See equations in task description above for a precise definition\n",
    "    of the individual parameters.\n",
    "\n",
    "    '''\n",
    "    \n",
    "    np.random.seed(10)\n",
    "    random.seed(10)\n",
    "\n",
    "    # insert your code here \n",
    "\n",
    "    # ------------------------------------------------\n",
    "    # Generate samples from an instantaneous LNP model \n",
    "    # neuron with receptive field kernel w. (0.5 pts)\n",
    "    # ------------------------------------------------\n",
    "    \n",
    "    s = [[random.randint(0,1) for i in range(w.shape[0])] for i in range(nT)]\n",
    "    s = np.array(s)*np.random.normal(1, scale=v*4, size=nT)[...,np.newaxis]\n",
    "    r = (e**(w.T*s)*R*dt).mean(axis=1)\n",
    "    c = poisson(lam=r)\n",
    "    \n",
    "    return c, r, s"
   ]
  },
  {
   "cell_type": "code",
   "execution_count": 4,
   "metadata": {
    "scrolled": true
   },
   "outputs": [],
   "source": [
    "D = 15     # number of pixels in one dimension, \n",
    "           # the simulated RF here is a square\n",
    "nT = 1000  # number of time bins\n",
    "dt = 0.1   # frame rate, 0.1s per bin. \n",
    "R = 50     # firing rate in Hz \n",
    "v = 5      # stimulus variance\n",
    "\n",
    "\n",
    "\n",
    "w = gen_gauss_rf(D,7,(1,1))\n",
    "w = w.flatten()\n",
    "\n",
    "\n",
    "c, r, s = sample_lnp(w, nT, dt, R, v) # \n",
    "\n",
    "#plt.scatter(c,r)\n",
    "\n",
    "\n"
   ]
  },
  {
   "cell_type": "code",
   "execution_count": 5,
   "metadata": {},
   "outputs": [
    {
     "data": {
      "text/plain": [
       "Text(0, 0.5, 'Counts')"
      ]
     },
     "execution_count": 5,
     "metadata": {},
     "output_type": "execute_result"
    },
    {
     "data": {
      "image/png": "[encoded data removed]",
      "text/plain": [
       "<Figure size 1080x288 with 3 Axes>"
      ]
     },
     "metadata": {
      "needs_background": "light"
     },
     "output_type": "display_data"
    }
   ],
   "source": [
    "# insert your code here \n",
    "# --------------\n",
    "# Plot (0.5 pts)\n",
    "# --------------\n",
    "fig, axs = plt.subplots(1, 3, figsize=(15, 4))\n",
    "# ------------------------------------------------\n",
    "# (1) one example frame from s; \n",
    "# ------------------------------------------------\n",
    "s_im = s[25,:].reshape((15,15))\n",
    "axs[0].imshow(s_im, vmin = 0, vmax=1)\n",
    "axs[0].set_title('Stimulus frame at t=25')\n",
    "# ------------------------------------------------\n",
    "# (2) the simulated response c;\n",
    "# ------------------------------------------------\n",
    "axs[1].plot(c,c='gray')\n",
    "axs[1].set_xlabel('Time (s)')\n",
    "axs[1].set_ylabel('Number of spikes')\n",
    "# ------------------------------------------------\n",
    "# (3) a scatter plot of r and c;\n",
    "# ------------------------------------------------\n",
    "axs[2].scatter(r,c,s=10,c='gray')\n",
    "axs[1].set_xlabel('Rates')\n",
    "axs[1].set_ylabel('Counts')"
   ]
  },
  {
   "cell_type": "markdown",
   "metadata": {},
   "source": [
    "Plot the responses of the cell."
   ]
  },
  {
   "cell_type": "code",
   "execution_count": 6,
   "metadata": {},
   "outputs": [
    {
     "data": {
      "text/plain": [
       "<Figure size 1080x288 with 0 Axes>"
      ]
     },
     "execution_count": 6,
     "metadata": {},
     "output_type": "execute_result"
    },
    {
     "data": {
      "text/plain": [
       "<Figure size 1080x288 with 0 Axes>"
      ]
     },
     "metadata": {},
     "output_type": "display_data"
    }
   ],
   "source": [
    "# insert your code here \n",
    "\n",
    "# --------------\n",
    "# Plot (0.5 pts)\n",
    "# --------------\n",
    "\n",
    "plt.figure(figsize=(15,4))\n",
    "\n",
    "# ------------------------------------------------\n",
    "# (1) one example frame from `s`; \n",
    "# ------------------------------------------------\n",
    "\n",
    "\n",
    "# ------------------------------------------------\n",
    "# (2) the simulated response `c`;\n",
    "# ------------------------------------------------\n",
    "\n",
    "\n",
    "# ------------------------------------------------\n",
    "# (3) a scatter plot of `r` and `c`;\n",
    "# ------------------------------------------------\n"
   ]
  },
  {
   "cell_type": "markdown",
   "metadata": {},
   "source": [
    "### Implementation \n",
    "\n",
    "Before you run your optimizer, make sure the gradient is correct. The helper function `check_grad` in `scipy.optimize` can help you do that. This package also has suitable functions for optimization. If you generate a large number of  samples, the fitted receptive field will look more similar to the true receptive field. With more samples, the optimization takes longer, however."
   ]
  },
  {
   "cell_type": "markdown",
   "metadata": {},
   "source": [
    "\n",
    "$$\n",
    "L(w) = \\log \\prod_t \\frac{r_t^{c_t}}{c_t!}\\exp(-r_t)\\\\\n",
    " = \\sum_t \\log \\frac{r_t^{c_t}}{c_t!}\\exp(-r_t)\\\\\n",
    " = \\sum_t \\log r_t^{c_t} - \\log c_t! + \\log\\exp(-r_t)\\\\\n",
    " = \\sum_t c_t \\log r_t - \\log c_t! - r_t\\\\\n",
    "$$\n"
   ]
  },
  {
   "cell_type": "markdown",
   "metadata": {},
   "source": [
    "\n"
   ]
  },
  {
   "cell_type": "code",
   "execution_count": 7,
   "metadata": {
    "scrolled": true
   },
   "outputs": [],
   "source": [
    "def likelihood(x, s, c):\n",
    "    lik = 0\n",
    "    for i in np.arange(s.shape[0]):\n",
    "        temp = c[i]*np.log(e**(w.T*s[i,:])*R*dt)- np.log(scipy.special.factorial(c[i])) - np.exp(w.T*s[i,:])*R*dt\n",
    "        print(temp)\n",
    "        lik = lik + temp\n",
    "    return lik\n",
    "                                                    \n",
    "    \n",
    "                                                        \n",
    "def gradient(x, s, c, dt=.1, R=50):\n",
    "    grad = 0\n",
    "    for i in np.arange(s.shape[0]):\n",
    "        grad = grad + (c[i] - e**(x.T*s[i,:])*R*dt)*s[i,:]\n",
    "    return grad \n",
    "\n",
    "grads = gradient(w, s,c)\n"
   ]
  },
  {
   "cell_type": "code",
   "execution_count": 8,
   "metadata": {},
   "outputs": [
    {
     "data": {
      "text/plain": [
       "(1000, 225)"
      ]
     },
     "execution_count": 8,
     "metadata": {},
     "output_type": "execute_result"
    }
   ],
   "source": [
    "s.shape"
   ]
  },
  {
   "cell_type": "code",
   "execution_count": 9,
   "metadata": {},
   "outputs": [],
   "source": [
    "def negloglike_lnp(x, c, s, dt=0.1, R=50):\n",
    "    '''Implements the negative (!) log-likelihood of the LNP model and its\n",
    "    gradient with respect to the receptive field w.\n",
    "\n",
    "    Parameters\n",
    "    ----------\n",
    "\n",
    "    x: np.array, (Dx * Dy, )\n",
    "      current receptive field \n",
    "\n",
    "    c: np.array, (nT, )\n",
    "      spike counts \n",
    "\n",
    "    s: np.array, (Dx * Dy, nT)\n",
    "      stimulus matrix\n",
    "\n",
    "\n",
    "    Returns\n",
    "    -------\n",
    "\n",
    "    f: float\n",
    "      function value of the negative log likelihood at x\n",
    "    \n",
    "    df: np.array, (Dx * Dy, )\n",
    "      gradient of the negative log likelihood with respect to x \n",
    "    '''\n",
    "\n",
    "    # insert your code here \n",
    "\n",
    "    # ------------------------------------------------\n",
    "    # Implement the negative log-likelihood of the LNP\n",
    "    # and its gradient with respect to the receptive\n",
    "    # field `w` using the simplified equations you\n",
    "    # calculated earlier. (0.5 pts)\n",
    "    # ------------------------------------------------\n",
    "\n",
    "    np.random.seed(30)\n",
    "    r = np.exp(s@x.T)*R*dt\n",
    "    \n",
    "    f = np.sum(-c @ np.log(r)+ np.log(scipy.special.factorial(c))+ r)\n",
    "    df = gradient(x, s,c)\n",
    "    \n",
    "    \n",
    "    print(\"Current f: \", f)\n",
    "    \n",
    "    return f, df\n"
   ]
  },
  {
   "cell_type": "code",
   "execution_count": 10,
   "metadata": {},
   "outputs": [
    {
     "name": "stdout",
     "output_type": "stream",
     "text": [
      "Current f:  475919561300141.3\n"
     ]
    }
   ],
   "source": [
    "f = negloglike_lnp(x=w, c=c, s=s, dt=0.1, R=50)"
   ]
  },
  {
   "cell_type": "markdown",
   "metadata": {},
   "source": [
    "Fit receptive field maximizing the log likelihood"
   ]
  },
  {
   "cell_type": "code",
   "execution_count": 11,
   "metadata": {
    "scrolled": false
   },
   "outputs": [
    {
     "name": "stdout",
     "output_type": "stream",
     "text": [
      "Current f:  475919561300141.3\n",
      "Current f:  1.273619842405624e+78\n",
      "Current f:  475919561300141.3\n",
      "Current f:  1.273619842405624e+78\n",
      "Current f:  2.0771302571692462e+46\n",
      "Current f:  5.2680167918574346e+35\n",
      "Current f:  4.553797520946304e+28\n",
      "Current f:  8.967315882083171e+23\n",
      "Current f:  6.654373952587336e+20\n",
      "Current f:  5.550833323464576e+18\n",
      "Current f:  2.2188767171206915e+17\n",
      "Current f:  2.265048342183108e+16\n",
      "Current f:  3745801310516977.0\n",
      "Current f:  1330608868846517.8\n",
      "Current f:  795059979464716.6\n"
     ]
    }
   ],
   "source": [
    "# insert your code here \n",
    "\n",
    "# ------------------------------------------\n",
    "# Estimate the receptive field by maximizing\n",
    "# the log-likelihood (or more commonly, \n",
    "# minimizing the negative log-likelihood).\n",
    "# \n",
    "# Tips: use scipy.optimize.minimize(). (1 pt)\n",
    "# ------------------------------------------\n",
    "\n",
    "res = scipy.optimize.minimize(negloglike_lnp, x0=w, args=(c,s), jac=True)\n"
   ]
  },
  {
   "cell_type": "code",
   "execution_count": 12,
   "metadata": {},
   "outputs": [
    {
     "data": {
      "text/plain": [
       "<matplotlib.image.AxesImage at 0x168700e4700>"
      ]
     },
     "execution_count": 12,
     "metadata": {},
     "output_type": "execute_result"
    },
    {
     "data": {
      "image/png": "[encoded data removed]",
      "text/plain": [
       "<Figure size 432x288 with 2 Axes>"
      ]
     },
     "metadata": {
      "needs_background": "light"
     },
     "output_type": "display_data"
    }
   ],
   "source": [
    "# insert your code here \n",
    "\n",
    "# ------------------------------------\n",
    "# Plot the ground truth and estimated \n",
    "# `w` side by side. (0.5 pts)\n",
    "# ------------------------------------\n",
    "\n",
    "fig, axs = plt.subplots(1,2)\n",
    "result_task1 = res.jac.reshape((15,15))\n",
    "result_task1 = result_task1 /np.sum(result_task1)\n",
    "w_im = np.reshape(w, (15,15))\n",
    "axs[0].imshow(w_im, vmin=np.min(w), vmax=np.max(w))\n",
    "axs[1].imshow(result_task1, vmin =np.min(result_task1), vmax=np.max(result_task1))\n"
   ]
  },
  {
   "cell_type": "markdown",
   "metadata": {},
   "source": [
    "## Task 2: Apply to real neuron\n",
    "\n",
    "Download the dataset for this task from Ilias (`nda_ex_6_data.mat`). It contains a stimulus matrix (`s`) in the same format you used before and the spike times. In addition, there is an array called `trigger` which contains the times at which the stimulus frames were swapped.\n",
    "\n",
    "* Generate an array of spike counts at the same temporal resolution as the stimulus frames\n",
    "* Fit the receptive field with time lags of 0 to 4 frames. Fit them one lag at a time (the ML fit is very sensitive to the number of parameters estimated and will not produce good results if you fit the full space-time receptive field for more than two time lags at once). \n",
    "* Plot the resulting filters\n",
    "\n",
    "*Grading: 2 pts*\n"
   ]
  },
  {
   "cell_type": "code",
   "execution_count": 13,
   "metadata": {},
   "outputs": [],
   "source": [
    "var = io.loadmat(r'data/nda_ex_6_data.mat')\n",
    "\n",
    "# t contains the spike times of the neuron\n",
    "t = var['DN_spiketimes'].flatten()    \n",
    "\n",
    "# trigger contains the times at which the stimulus flipped\n",
    "trigger = var['DN_triggertimes'].flatten()\n",
    "\n",
    "# contains the stimulus movie with black and white pixels\n",
    "s = var['DN_stim']\n",
    "s = s.reshape((300,1500)) # the shape of each frame is (20, 15)\n",
    "s = s[:,1:len(trigger)]"
   ]
  },
  {
   "cell_type": "markdown",
   "metadata": {},
   "source": [
    "Create vector of spike counts"
   ]
  },
  {
   "cell_type": "code",
   "execution_count": 14,
   "metadata": {},
   "outputs": [
    {
     "data": {
      "text/plain": [
       "(1489,)"
      ]
     },
     "execution_count": 14,
     "metadata": {},
     "output_type": "execute_result"
    }
   ],
   "source": [
    "trigger.shape"
   ]
  },
  {
   "cell_type": "code",
   "execution_count": 15,
   "metadata": {},
   "outputs": [],
   "source": [
    "# insert your code here \n",
    "\n",
    "# ------------------------------------------\n",
    "# Bin the spike counts at the same temporal\n",
    "# resolution as the stimulus (0.5 pts)\n",
    "# ------------------------------------------\n",
    "c, bins = np.histogram(t, bins=trigger)\n",
    "\n"
   ]
  },
  {
   "cell_type": "code",
   "execution_count": 16,
   "metadata": {},
   "outputs": [
    {
     "data": {
      "text/plain": [
       "(300, 1488)"
      ]
     },
     "execution_count": 16,
     "metadata": {},
     "output_type": "execute_result"
    }
   ],
   "source": [
    "c.shape\n",
    "s.shape"
   ]
  },
  {
   "cell_type": "code",
   "execution_count": 17,
   "metadata": {
    "scrolled": false
   },
   "outputs": [
    {
     "name": "stdout",
     "output_type": "stream",
     "text": [
      "Current f:  -13142611.356918909\n",
      "Current f:  -31098621.347707197\n",
      "Current f:  1.8369929731523476e+24\n",
      "Current f:  -31098621.347707197\n",
      "Current f:  499446574478.5571\n",
      "Current f:  4894382574.190607\n",
      "Current f:  861106214.4745889\n",
      "Current f:  61625955.39832446\n",
      "Current f:  2133873.1849607266\n",
      "Current f:  -16952739.393287957\n",
      "Current f:  -24563885.771852776\n",
      "Current f:  -27957002.17392601\n",
      "Current f:  -29558211.766019084\n",
      "Current f:  -30335890.668666318\n",
      "Current f:  -30719109.02872891\n",
      "Current f:  -30909326.519047376\n"
     ]
    }
   ],
   "source": [
    "res = scipy.optimize.minimize(negloglike_lnp, x0=np.zeros(300), args=(c,s.T),  jac=True)"
   ]
  },
  {
   "cell_type": "code",
   "execution_count": 18,
   "metadata": {
    "scrolled": true
   },
   "outputs": [
    {
     "data": {
      "text/plain": [
       "(1488,)"
      ]
     },
     "execution_count": 18,
     "metadata": {},
     "output_type": "execute_result"
    }
   ],
   "source": [
    "c.shape"
   ]
  },
  {
   "cell_type": "code",
   "execution_count": 19,
   "metadata": {},
   "outputs": [
    {
     "data": {
      "text/plain": [
       "(300, 1488)"
      ]
     },
     "execution_count": 19,
     "metadata": {},
     "output_type": "execute_result"
    }
   ],
   "source": [
    "s.shape"
   ]
  },
  {
   "cell_type": "code",
   "execution_count": 20,
   "metadata": {},
   "outputs": [
    {
     "name": "stdout",
     "output_type": "stream",
     "text": [
      "Current f:  -13119422.88866238\n",
      "Current f:  -31583954.82255334\n",
      "Current f:  1.7493701851707588e+24\n",
      "Current f:  -31583954.82255334\n",
      "Current f:  489173701364.8379\n",
      "Current f:  4821219861.659167\n",
      "Current f:  848199961.7356076\n",
      "Current f:  59577827.65793312\n",
      "Current f:  1122985.3962151126\n",
      "Current f:  -17655696.453564353\n",
      "Current f:  -25148498.997041095\n",
      "Current f:  -28489782.936582036\n",
      "Current f:  -30066742.92516153\n",
      "Current f:  -30832694.173956458\n",
      "Current f:  -31210145.644867174\n",
      "Current f:  -31397503.636825517\n"
     ]
    }
   ],
   "source": [
    "res1 = scipy.optimize.minimize(negloglike_lnp, x0=np.zeros(300), args=(c[1:],s[:,:-1].T),  jac=True)"
   ]
  },
  {
   "cell_type": "code",
   "execution_count": 21,
   "metadata": {
    "scrolled": true
   },
   "outputs": [
    {
     "name": "stdout",
     "output_type": "stream",
     "text": [
      "Current f:  -13096253.733660806\n",
      "Current f:  -31057321.004682556\n",
      "Current f:  1.758763099689983e+24\n",
      "Current f:  -31057321.004682556\n",
      "Current f:  495378650030.0159\n",
      "Current f:  4866195035.026863\n",
      "Current f:  856307590.0740176\n",
      "Current f:  61067709.56378929\n",
      "Current f:  1976376.3959604073\n",
      "Current f:  -16992973.189437095\n",
      "Current f:  -24559576.250557076\n",
      "Current f:  -27933328.016924277\n",
      "Current f:  -29525515.932091266\n",
      "Current f:  -30298841.487232883\n",
      "Current f:  -30679921.622626238\n",
      "Current f:  -30869079.499546707\n"
     ]
    }
   ],
   "source": [
    "res2 = scipy.optimize.minimize(negloglike_lnp, x0=np.zeros(300), args=(c[2:],s[:,:-2].T),  jac=True)"
   ]
  },
  {
   "cell_type": "code",
   "execution_count": 22,
   "metadata": {
    "scrolled": true
   },
   "outputs": [
    {
     "name": "stdout",
     "output_type": "stream",
     "text": [
      "Current f:  -13065940.068590552\n",
      "Current f:  -30667324.641604617\n",
      "Current f:  1.7800121213106602e+24\n",
      "Current f:  -30667324.641604617\n",
      "Current f:  495009093474.4059\n",
      "Current f:  4860759498.485923\n",
      "Current f:  855712093.6400657\n",
      "Current f:  61376121.54159173\n",
      "Current f:  2342529.0778196743\n",
      "Current f:  -16611688.76407161\n",
      "Current f:  -24173234.680028614\n",
      "Current f:  -27544995.031316787\n",
      "Current f:  -29136311.583856143\n",
      "Current f:  -29909231.37477479\n",
      "Current f:  -30290115.96558117\n",
      "Current f:  -30479177.887138836\n"
     ]
    }
   ],
   "source": [
    "res3 = scipy.optimize.minimize(negloglike_lnp, x0=np.zeros(300), args=(c[3:],s[:,:-3].T),  jac=True)"
   ]
  },
  {
   "cell_type": "code",
   "execution_count": 23,
   "metadata": {
    "scrolled": true
   },
   "outputs": [
    {
     "name": "stdout",
     "output_type": "stream",
     "text": [
      "Current f:  -13040427.90846071\n",
      "Current f:  -30719167.395197928\n",
      "Current f:  1.780995001428066e+24\n",
      "Current f:  -30719167.395197928\n",
      "Current f:  494626711970.307\n",
      "Current f:  4859081848.428701\n",
      "Current f:  855371886.5108855\n",
      "Current f:  61277897.79804374\n",
      "Current f:  2274559.112452422\n",
      "Current f:  -16670391.41091909\n",
      "Current f:  -24228257.701028403\n",
      "Current f:  -27598370.98953187\n",
      "Current f:  -29188907.343470618\n",
      "Current f:  -29961447.30884857\n",
      "Current f:  -30342144.488171145\n",
      "Current f:  -30531113.321081925\n"
     ]
    }
   ],
   "source": [
    "res4 = scipy.optimize.minimize(negloglike_lnp, x0=np.zeros(300), args=(c[4:],s[:,:-4].T),  jac=True)"
   ]
  },
  {
   "cell_type": "code",
   "execution_count": 24,
   "metadata": {},
   "outputs": [
    {
     "data": {
      "text/plain": [
       "<matplotlib.image.AxesImage at 0x16870849cd0>"
      ]
     },
     "execution_count": 24,
     "metadata": {},
     "output_type": "execute_result"
    },
    {
     "data": {
      "image/png": "[encoded data removed]",
      "text/plain": [
       "<Figure size 432x288 with 5 Axes>"
      ]
     },
     "metadata": {
      "needs_background": "light"
     },
     "output_type": "display_data"
    }
   ],
   "source": [
    "fig, axs = plt.subplots(1,5)\n",
    "result = res.jac.reshape((20,15))\n",
    "result = result /np.sum(result)\n",
    "result1 = res1.jac.reshape((20,15))\n",
    "result1 = result1 /np.sum(result1)\n",
    "result2 = res2.jac.reshape((20,15))\n",
    "result2 = result2 /np.sum(result2)\n",
    "result3 = res3.jac.reshape((20,15))\n",
    "result3 = result3 /np.sum(result3)\n",
    "result4 = res4.jac.reshape((20,15))\n",
    "result4 = result4 /np.sum(result4)\n",
    "w = np.reshape(w, (15,15))\n",
    "axs[0].imshow(result, vmin=np.min(result), vmax=np.max(result))\n",
    "axs[1].imshow(result1, vmin=np.min(result1), vmax=np.max(result1))\n",
    "axs[2].imshow(result2, vmin = np.min(result2), vmax=np.max(result2))\n",
    "axs[3].imshow(result3, vmin = np.min(result3), vmax=np.max(result3))\n",
    "axs[4].imshow(result4, vmin = np.min(result4), vmax=np.max(result4))"
   ]
  },
  {
   "cell_type": "markdown",
   "metadata": {},
   "source": [
    "Fit receptive field for each frame separately"
   ]
  },
  {
   "cell_type": "code",
   "execution_count": 25,
   "metadata": {},
   "outputs": [
    {
     "data": {
      "text/plain": [
       "(300, 1488)"
      ]
     },
     "execution_count": 25,
     "metadata": {},
     "output_type": "execute_result"
    }
   ],
   "source": [
    "# insert your code here \n",
    "\n",
    "# ------------------------------------------\n",
    "# Fit the receptive field with time lags of\n",
    "# 0 to 4 frames separately (1 pt)\n",
    "# \n",
    "# The final receptive field (`w_hat`) should\n",
    "# be in the shape of (Dx * Dy, 5)\n",
    "# ------------------------------------------\n",
    "s.shape"
   ]
  },
  {
   "cell_type": "markdown",
   "metadata": {},
   "source": [
    "Plot the frames one by one"
   ]
  },
  {
   "cell_type": "code",
   "execution_count": 26,
   "metadata": {},
   "outputs": [],
   "source": [
    "# insert your code here \n",
    "\n",
    "# --------------------------------------------\n",
    "# Plot all 5 frames of the fitted RFs (0.5 pt)\n",
    "# --------------------------------------------\n"
   ]
  },
  {
   "cell_type": "markdown",
   "metadata": {},
   "source": [
    "## Task 3: Separate space/time components\n",
    "\n",
    "The receptive field of the neuron can be decomposed into a spatial and a temporal component. Because of the way we computed them, both are independent and the resulting spatio-temporal component is thus called separable. As discussed in the lecture, you can use singular-value decomposition to separate these two: \n",
    "\n",
    "$$\n",
    "W = u_1 s_1 v_1^T\n",
    "$$\n",
    "\n",
    "Here $u_1$ and $v_1$ are the singular vectors belonging to the 1st singular value $s_1$ and provide a long rank approximation of W, the array with all receptive fields. It is important that the mean is subtracted before computing the SVD.  \n",
    "\n",
    "Plot the first temporal component and the first spatial component. You can use a Python implementation of SVD. The results can look a bit puzzling, because the sign of the components is arbitrary.\n",
    "\n",
    "*Grading: 1 pts*"
   ]
  },
  {
   "cell_type": "code",
   "execution_count": 27,
   "metadata": {
    "scrolled": true
   },
   "outputs": [
    {
     "name": "stdout",
     "output_type": "stream",
     "text": [
      "(300, 5)\n"
     ]
    }
   ],
   "source": [
    "W = np.empty((300,0))\n",
    "for re in [res, res1, res2, res3, res4]:\n",
    "    W = np.append(W,re.jac[...,np.newaxis], axis=1)\n",
    "print(W.shape)"
   ]
  },
  {
   "cell_type": "code",
   "execution_count": 28,
   "metadata": {},
   "outputs": [],
   "source": [
    "# insert your code here \n",
    "\n",
    "# --------------------------------------------\n",
    "# Apply SVD to the fitted receptive field,\n",
    "# you can use either numpy or sklearn (0.5 pt)\n",
    "# --------------------------------------------\n",
    "W = W - W.mean()\n",
    "u,w,v= np.linalg.svd(W, full_matrices=False)\n",
    "# --------------------------------------------\n",
    "# Plot the spatial and temporal components (0.5 pt)\n",
    "# --------------------------------------------\n",
    "\n"
   ]
  },
  {
   "cell_type": "code",
   "execution_count": 29,
   "metadata": {},
   "outputs": [
    {
     "data": {
      "text/plain": [
       "(5, 5)"
      ]
     },
     "execution_count": 29,
     "metadata": {},
     "output_type": "execute_result"
    }
   ],
   "source": [
    "v.shape"
   ]
  },
  {
   "cell_type": "code",
   "execution_count": 30,
   "metadata": {
    "scrolled": true
   },
   "outputs": [
    {
     "data": {
      "text/plain": [
       "(300, 5)"
      ]
     },
     "execution_count": 30,
     "metadata": {},
     "output_type": "execute_result"
    }
   ],
   "source": [
    "u.shape"
   ]
  },
  {
   "cell_type": "code",
   "execution_count": 31,
   "metadata": {},
   "outputs": [
    {
     "data": {
      "text/plain": [
       "[<matplotlib.lines.Line2D at 0x16870952e50>]"
      ]
     },
     "execution_count": 31,
     "metadata": {},
     "output_type": "execute_result"
    },
    {
     "data": {
      "image/png": "[encoded data removed]",
      "text/plain": [
       "<Figure size 432x288 with 2 Axes>"
      ]
     },
     "metadata": {
      "needs_background": "light"
     },
     "output_type": "display_data"
    }
   ],
   "source": [
    "\n",
    "fig, ax = plt.subplots(1,2)\n",
    "spatial = u[:,1]\n",
    "spatial = np.reshape(spatial,(20,15))\n",
    "ax[0].imshow(spatial, vmin=np.min(spatial), vmax=np.max(spatial))\n",
    "ax[1].plot(v[:,1])"
   ]
  },
  {
   "cell_type": "markdown",
   "metadata": {},
   "source": [
    "## Task 4: Regularized receptive field\n",
    "\n",
    "As you can see, maximum likelihood estimation of linear receptive fields can be quite noisy, if little data is available. \n",
    "\n",
    "To improve on this, one can regularize the receptive field vector and a term to the cost function\n",
    "\n",
    "\n",
    "$$\n",
    "C(w) = L(w) + \\alpha ||w||_p^2\n",
    "$$\n",
    "\n",
    "Here, the $p$ indicates which norm of $w$ is used: for $p=2$, this is shrinks all coefficient equally to zero; for $p=1$, it favors sparse solutions, a penality also known as lasso. Because the 1-norm is not smooth at zero, it is not as straightforward to implement \"by hand\". \n",
    "\n",
    "Use a toolbox with an implementation of the lasso-penalization and fit the receptive field. Possibly, you will have to try different values of the regularization parameter $\\alpha$. Plot your estimates from above and the lasso-estimates. How do they differ? What happens when you increase or decrease $alpha$?\n",
    "\n",
    "If you want to keep the Poisson noise model, you can use the implementation in [`pyglmnet`](https://pypi.python.org/pypi/pyglmnet). Otherwise, you can also resort to the linear model from `sklearn` which assumes Gaussian noise (which in my hands was much faster).\n",
    "\n",
    "*Grading: 2 pts*\n"
   ]
  },
  {
   "cell_type": "code",
   "execution_count": 32,
   "metadata": {},
   "outputs": [
    {
     "data": {
      "text/plain": [
       "Lasso(alpha=0.03)"
      ]
     },
     "execution_count": 32,
     "metadata": {},
     "output_type": "execute_result"
    }
   ],
   "source": [
    "from sklearn import linear_model\n",
    "\n",
    "# insert your code here \n",
    "\n",
    "# ------------------------------------------\n",
    "# Fit the receptive field with time lags of\n",
    "# 0 to 4 frames separately (the same as before) \n",
    "# with sklern or pyglmnet (1 pt)\n",
    "# ------------------------------------------\n",
    "lasso = linear_model.Lasso(alpha=0.03)\n",
    "lasso.fit(s.T, c)   \n",
    "lasso1 = linear_model.Lasso(alpha=0.03)\n",
    "lasso1.fit(s[:,:-1].T, c[1:]) \n",
    "lasso2 = linear_model.Lasso(alpha=0.03)\n",
    "lasso2.fit(s[:,:-2].T, c[2:]) \n",
    "lasso3 = linear_model.Lasso(alpha=0.03)\n",
    "lasso3.fit(s[:,:-3].T, c[3:]) \n",
    "lasso4 = linear_model.Lasso(alpha=0.03)\n",
    "lasso4.fit(s[:,:-4].T, c[4:]) "
   ]
  },
  {
   "cell_type": "code",
   "execution_count": 33,
   "metadata": {},
   "outputs": [
    {
     "data": {
      "text/plain": [
       "<matplotlib.image.AxesImage at 0x16872012eb0>"
      ]
     },
     "execution_count": 33,
     "metadata": {},
     "output_type": "execute_result"
    },
    {
     "data": {
      "image/png": "[encoded data removed]",
      "text/plain": [
       "<Figure size 432x288 with 10 Axes>"
      ]
     },
     "metadata": {
      "needs_background": "light"
     },
     "output_type": "display_data"
    }
   ],
   "source": [
    "fig, ax = plt.subplots(2,5)\n",
    "res_sklearn = lasso.coef_.reshape((20,15))\n",
    "res1_sklearn = lasso1.coef_.reshape((20,15))\n",
    "res2_sklearn = lasso2.coef_.reshape((20,15))\n",
    "res3_sklearn = lasso3.coef_.reshape((20,15))\n",
    "res4_sklearn = lasso4.coef_.reshape((20,15))\n",
    "res_sklearn_all = np.array([res_sklearn, res1_sklearn, res2_sklearn, res3_sklearn, res4_sklearn])\n",
    "ax[0,0].imshow(res_sklearn, vmin=np.min(res_sklearn_all), vmax=np.max(res_sklearn_all))\n",
    "ax[0,1].imshow(res1_sklearn, vmin=np.min(res_sklearn_all), vmax=np.max(res_sklearn_all))\n",
    "ax[0,2].imshow(res2_sklearn, vmin=np.min(res_sklearn_all), vmax=np.max(res_sklearn_all))\n",
    "ax[0,3].imshow(res3_sklearn, vmin=np.min(res_sklearn_all), vmax=np.max(res_sklearn_all))\n",
    "ax[0,4].imshow(res4_sklearn, vmin=np.min(res_sklearn_all), vmax=np.max(res_sklearn_all))\n",
    "\n",
    "ax[1,0].imshow(result, vmin=np.min(result), vmax=np.max(result))\n",
    "ax[1,1].imshow(result1, vmin=np.min(result1), vmax=np.max(result1))\n",
    "ax[1,2].imshow(result2, vmin = np.min(result2), vmax=np.max(result2))\n",
    "ax[1,3].imshow(result3, vmin = np.min(result3), vmax=np.max(result3))\n",
    "ax[1,4].imshow(result4, vmin = np.min(result4), vmax=np.max(result4))"
   ]
  },
  {
   "cell_type": "code",
   "execution_count": 34,
   "metadata": {},
   "outputs": [],
   "source": [
    "# insert your code here \n",
    "\n",
    "# -------------------------------------------------\n",
    "# Plot all 5 frames of the fitted RFs, compare them \n",
    "# with the ones without regularization (0.5 pt)\n",
    "# -------------------------------------------------\n"
   ]
  }
 ],
 "metadata": {
  "anaconda-cloud": {},
  "interpreter": {
   "hash": "4a52f57b56c27f38fc3d95daa57af6da3929fe8541a384ec0d11efb6a1b206eb"
  },
  "kernelspec": {
   "display_name": "Python 3 (ipykernel)",
   "language": "python",
   "name": "python3"
  },
  "language_info": {
   "codemirror_mode": {
    "name": "ipython",
    "version": 3
   },
   "file_extension": ".py",
   "mimetype": "text/x-python",
   "name": "python",
   "nbconvert_exporter": "python",
   "pygments_lexer": "ipython3",
   "version": "3.8.5"
  },
  "nteract": {
   "version": "0.13.0"
  }
 },
 "nbformat": 4,
 "nbformat_minor": 1
}
