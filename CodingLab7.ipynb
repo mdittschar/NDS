{
 "cells": [
  {
   "cell_type": "markdown",
   "metadata": {},
   "source": [
    "_Neural Data Science_\n",
    "\n",
    "Lecturer: Prof. Dr. Philipp Berens\n",
    "\n",
    "Tutors: Jonas Beck, Ziwei Huang, Rita González Márquez\n",
    "\n",
    "Summer term 2022\n",
    "\n",
    "Name: FILL IN YOUR NAMES HERE\n",
    "\n",
    "# Coding Lab 7\n",
    "\n"
   ]
  },
  {
   "cell_type": "code",
   "execution_count": 1,
   "metadata": {},
   "outputs": [],
   "source": [
    "import seaborn as sns\n",
    "import matplotlib.pyplot as plt\n",
    "import matplotlib as mpl\n",
    "import numpy as np\n",
    "import scipy.optimize as opt\n",
    "import scipy.io as io\n",
    "import scipy as sp\n",
    "import scipy\n",
    "import random\n",
    "from math import e\n",
    "from numpy.random import poisson\n",
    "import matplotlib.cm as cm\n",
    "\n",
    "mpl.rc(\"savefig\", dpi=72)\n",
    "\n",
    "sns.set_style('whitegrid')\n",
    "%matplotlib inline"
   ]
  },
  {
   "cell_type": "markdown",
   "metadata": {},
   "source": [
    "## Task 1: Fit RF on simulated data\n",
    "\n",
    "We will start  with toy data generated from an LNP model neuron to make sure everything works right. The model LNP neuron consists of one Gaussian linear filter, an exponential nonlinearity and a Poisson spike count generator. We look at it in discrete time with time bins of width $\\delta t$. The model is:\n",
    "\n",
    "$$\n",
    "c_t \\sim Poisson(r_t)\\\\\n",
    "r_t = \\exp(w^T s_t) \\cdot \\Delta t \\cdot R\n",
    "$$\n",
    "\n",
    "Here, $c_t$ is the spike count in time window $t$ of length $\\Delta t$, $s_t$ is the stimulus and $w$ is the receptive field of the neuron. The receptive field variable `w` is 15 × 15 pixels and normalized to $||w||=1$. A stimulus frame is a 15 × 15 pixel image, for which we use uncorrelated checkerboard noise. R can be used to bring the firing rate into the right regime (e.g. by setting $R=50$).      \n",
    "\n",
    "For computational ease, we reformat the stimulus and the receptive field in a 225 by 1 array. The function ```sampleLNP``` can be used to generate data from this model. It returns a spike count vector `c` with samples from the model (dimensions: 1 by nT = $T/\\Delta t$), a stimulus matrix `s` (dimensions: 225 × nT) and the mean firing rate `r` (dimensions: nT × 1). \n",
    "\n",
    "Here we assume that the receptive field influences the spike count instantaneously just as in the above equations. Implement a Maximum Likelihood approach to fit the receptive field. \n",
    "\n",
    "To this end simplify and implement the log-likelihood function $L(w)$ and its gradient $\\frac{L(w)}{dw}$ with respect to $w$ (`logLikLnp`). The log-likelihood of the model is\n",
    "$$L(w) = \\log \\prod_t \\frac{r_t^{c_t}}{c_t!}\\exp(-r_t).$$\n",
    "\n",
    "Plot the true receptive field, a stimulus frame, the spike counts and the estimated receptive field. "
   ]
  },
  {
   "cell_type": "markdown",
   "metadata": {},
   "source": [
    "### Calculations \n",
    "\n",
    "Simplify the log likelihood analytically and derive the analytical solution for the gradient. (2 pts)\n",
    "\n",
    "See also: [How to use Latex in Jupyter notebook](https://linuxhint.com/use-latex-jupyter-notebook/).\n",
    "\n",
    "$$\n",
    "L(w) = \\log \\prod_t \\frac{r_t^{c_t}}{c_t!}\\exp(-r_t)\\\\\n",
    " = \\sum_t \\log \\frac{r_t^{c_t}}{c_t!}\\exp(-r_t)\\\\\n",
    " = \\sum_t \\log r_t^{c_t} - \\log c_t! + \\log\\exp(-r_t)\\\\\n",
    " = \\sum_t c_t \\log r_t - \\log c_t! - r_t\\\\\n",
    "$$\n",
    "\n",
    "Because $c_t!$ does not depend on $w$, we can move it to an additive constant. Using $r_t = \\exp(w^T s_t) dt R$ we obtain:\n",
    "\n",
    "$$\n",
    "L(w) = \\sum_t c_t (w^T s_t + dt R) - \\exp(w^T s_t)dt R + const_1.\\\\\n",
    "= \\sum_t c_t w^T s_t - \\exp(w^T s_t)dt R + const_2.\n",
    "$$\n",
    "\n",
    "Note that $s_t$ denotes a vector and $c_t$ a scalar, in slight abuse of notation.\n",
    "\n",
    "For the gradient:\n",
    "\n",
    "$$\n",
    "dL(w)/dw = \\sum_t c_t s_t - s_t \\exp(w^T s_t)dt R \\\\\n",
    "= \\sum_t (c_t - \\exp(w^T s_t)dt R)s_t\n",
    "$$\n",
    "\n",
    "This is interesting and makes intuitive sense: for the gradient, each stimulus frame is weighted by the difference between the observed and predicted count.\n",
    "\n"
   ]
  },
  {
   "cell_type": "markdown",
   "metadata": {},
   "source": [
    "### Generate data"
   ]
  },
  {
   "cell_type": "code",
   "execution_count": 2,
   "metadata": {},
   "outputs": [
    {
     "data": {
      "text/plain": [
       "0.0044444444444444444"
      ]
     },
     "execution_count": 2,
     "metadata": {},
     "output_type": "execute_result"
    },
    {
     "data": {
      "image/png": "[encoded data removed]",
      "text/plain": [
       "<Figure size 432x288 with 2 Axes>"
      ]
     },
     "metadata": {
      "needs_background": "light"
     },
     "output_type": "display_data"
    }
   ],
   "source": [
    "def gen_gauss_rf(D, width, center=(0,0)):\n",
    "    \n",
    "    sz = (D-1)/2\n",
    "    x, y = sp.mgrid[-sz: sz + 1, -sz: sz + 1]\n",
    "    x = x + center[0]\n",
    "    y = y + center[1]\n",
    "    w = np.exp(- (x ** 2/width + y ** 2 / width))\n",
    "    w = w / np.sum(w.flatten())\n",
    "    \n",
    "    return w\n",
    "\n",
    "w = gen_gauss_rf(15, 7, (1,1))\n",
    "sns.heatmap(w)\n",
    "w.mean()"
   ]
  },
  {
   "cell_type": "code",
   "execution_count": 3,
   "metadata": {},
   "outputs": [],
   "source": [
    "def sample_lnp(w, nT, dt, R, v):\n",
    "    '''Generate samples from an instantaneous LNP model neuron with \n",
    "    receptive field kernel w.\n",
    "\n",
    "    Parameters\n",
    "    ----------\n",
    "\n",
    "    w: np.array, (Dx * Dy, ) \n",
    "        (flattened) receptive field kernel. \n",
    "    \n",
    "    nT: int\n",
    "        number of time steps\n",
    "    \n",
    "    dt: float\n",
    "        duration of a frame in s\n",
    "    \n",
    "    R: float\n",
    "        rate parameter\n",
    "    \n",
    "    v: float\n",
    "        variance of the stimulus ensemble\n",
    "\n",
    "\n",
    "    Returns\n",
    "    -------\n",
    "\n",
    "    c: np.array, (nT, )\n",
    "        sampled spike counts in time bins\n",
    "    \n",
    "    r: np.array, (nT, )\n",
    "        mean rate in time bins\n",
    "        \n",
    "    s: np.array, (nT, Dx*Dy)\n",
    "        stimulus frames used\n",
    "\n",
    "    Note\n",
    "    ----\n",
    "\n",
    "    See equations in task description above for a precise definition\n",
    "    of the individual parameters.\n",
    "\n",
    "    '''\n",
    "    \n",
    "    np.random.seed(10)\n",
    "    random.seed(10)\n",
    "\n",
    "    # insert your code here \n",
    "\n",
    "    # ------------------------------------------------\n",
    "    # Generate samples from an instantaneous LNP model \n",
    "    # neuron with receptive field kernel w. (0.5 pts)\n",
    "    # ------------------------------------------------\n",
    "    \n",
    "    s = [[random.randint(0,1) for i in range(w.shape[0])] for i in range(nT)]\n",
    "    s = np.array(s)*np.random.normal(1, scale=v*4, size=nT)[...,np.newaxis]\n",
    "    r = (e**(w.T*s)*R*dt).mean(axis=1)\n",
    "    c = poisson(lam=r)\n",
    "    \n",
    "    return c, r, s"
   ]
  },
  {
   "cell_type": "code",
   "execution_count": 4,
   "metadata": {
    "scrolled": true
   },
   "outputs": [],
   "source": [
    "D = 15     # number of pixels in one dimension, \n",
    "           # the simulated RF here is a square\n",
    "nT = 1000  # number of time bins\n",
    "dt = 0.1   # frame rate, 0.1s per bin. \n",
    "R = 50     # firing rate in Hz \n",
    "v = 5      # stimulus variance\n",
    "\n",
    "w = gen_gauss_rf(D,7,(1,1))\n",
    "w = w.flatten()\n",
    "\n",
    "c, r, s = sample_lnp(w, nT, dt, R, v) # \n"
   ]
  },
  {
   "cell_type": "markdown",
   "metadata": {},
   "source": [
    "Plot the responses of the cell."
   ]
  },
  {
   "cell_type": "code",
   "execution_count": 5,
   "metadata": {},
   "outputs": [
    {
     "name": "stderr",
     "output_type": "stream",
     "text": [
      "<ipython-input-5-7cc813757a8d>:18: UserWarning: FixedFormatter should only be used together with FixedLocator\n",
      "  axs[1].set_yticklabels([0,20,40,50,60,80,100,120,140])\n",
      "<ipython-input-5-7cc813757a8d>:25: UserWarning: FixedFormatter should only be used together with FixedLocator\n",
      "  axs[2].set_yticklabels([0,20,40,50,60,80,100,120,140])\n"
     ]
    },
    {
     "data": {
      "text/plain": [
       "Text(0, 0.5, 'Counts')"
      ]
     },
     "execution_count": 5,
     "metadata": {},
     "output_type": "execute_result"
    },
    {
     "data": {
      "image/png": "[encoded data removed]",
      "text/plain": [
       "<Figure size 1080x288 with 3 Axes>"
      ]
     },
     "metadata": {
      "needs_background": "light"
     },
     "output_type": "display_data"
    }
   ],
   "source": [
    "# insert your code here \n",
    "# --------------\n",
    "# Plot (0.5 pts)\n",
    "# --------------\n",
    "fig, axs = plt.subplots(1, 3, figsize=(15, 4))\n",
    "# ------------------------------------------------\n",
    "# (1) one example frame from s; \n",
    "# ------------------------------------------------\n",
    "s_im = s[25,:].reshape((15,15))\n",
    "axs[0].imshow(s_im, vmin = 0, vmax=1)\n",
    "axs[0].set_title('Stimulus frame at t=25')\n",
    "# ------------------------------------------------\n",
    "# (2) the simulated response c;\n",
    "# ------------------------------------------------\n",
    "axs[1].plot(c,c='gray')\n",
    "axs[1].set_xlabel('Time (s)')\n",
    "axs[1].set_ylabel('Number of spikes')\n",
    "axs[1].set_yticklabels([0,20,40,50,60,80,100,120,140])\n",
    "# ------------------------------------------------\n",
    "# (3) a scatter plot of r and c;\n",
    "# ------------------------------------------------\n",
    "axs[2].scatter(r,c,s=10,c='gray')\n",
    "axs[2].set_xlabel('Rates')\n",
    "axs[2].set_yticklabels([0,20,40,50,60,80,100,120,140])\n",
    "axs[2].set_ylabel('Counts')\n",
    "\n"
   ]
  },
  {
   "cell_type": "markdown",
   "metadata": {},
   "source": [
    "### Implementation \n",
    "\n",
    "Before you run your optimizer, make sure the gradient is correct. The helper function `check_grad` in `scipy.optimize` can help you do that. This package also has suitable functions for optimization. If you generate a large number of  samples, the fitted receptive field will look more similar to the true receptive field. With more samples, the optimization takes longer, however."
   ]
  },
  {
   "cell_type": "markdown",
   "metadata": {},
   "source": [
    "\n",
    "$$\n",
    "L(w) = \\log \\prod_t \\frac{r_t^{c_t}}{c_t!}\\exp(-r_t)\\\\\n",
    " = \\sum_t \\log \\frac{r_t^{c_t}}{c_t!}\\exp(-r_t)\\\\\n",
    " = \\sum_t \\log r_t^{c_t} - \\log c_t! + \\log\\exp(-r_t)\\\\\n",
    " = \\sum_t c_t \\log r_t - \\log c_t! - r_t\\\\\n",
    "$$\n"
   ]
  },
  {
   "cell_type": "markdown",
   "metadata": {},
   "source": [
    "\n"
   ]
  },
  {
   "cell_type": "code",
   "execution_count": 6,
   "metadata": {
    "scrolled": true
   },
   "outputs": [],
   "source": [
    "def likelihood(x, s, c):\n",
    "    lik = 0\n",
    "    for i in np.arange(s.shape[0]):\n",
    "        temp = c[i]*np.log(e**(w.T*s[i,:])*R*dt)- np.log(scipy.special.factorial(c[i])) - np.exp(w.T*s[i,:])*R*dt\n",
    "        print(temp)\n",
    "        lik = lik + temp\n",
    "    return lik\n",
    "                                                    \n",
    "    \n",
    "                                                        \n",
    "def gradient(x, s, c, dt=.1, R=50):\n",
    "    grad = 0\n",
    "    for i in np.arange(s.shape[0]):\n",
    "        grad = grad + (c[i] - e**(x.T*s[i,:])*R*dt)*s[i,:]\n",
    "    return grad \n",
    "\n",
    "grads = gradient(w, s,c)\n"
   ]
  },
  {
   "cell_type": "code",
   "execution_count": 7,
   "metadata": {},
   "outputs": [],
   "source": [
    "def negloglike_lnp(x, c, s, dt=0.1, R=50):\n",
    "    '''Implements the negative (!) log-likelihood of the LNP model and its\n",
    "    gradient with respect to the receptive field w.\n",
    "\n",
    "    Parameters\n",
    "    ----------\n",
    "\n",
    "    x: np.array, (Dx * Dy, )\n",
    "      current receptive field \n",
    "\n",
    "    c: np.array, (nT, )\n",
    "      spike counts \n",
    "\n",
    "    s: np.array, (Dx * Dy, nT)\n",
    "      stimulus matrix\n",
    "\n",
    "\n",
    "    Returns\n",
    "    -------\n",
    "\n",
    "    f: float\n",
    "      function value of the negative log likelihood at x\n",
    "    \n",
    "    df: np.array, (Dx * Dy, )\n",
    "      gradient of the negative log likelihood with respect to x \n",
    "    '''\n",
    "\n",
    "    # insert your code here \n",
    "\n",
    "    # ------------------------------------------------\n",
    "    # Implement the negative log-likelihood of the LNP\n",
    "    # and its gradient with respect to the receptive\n",
    "    # field `w` using the simplified equations you\n",
    "    # calculated earlier. (0.5 pts)\n",
    "    # ------------------------------------------------\n",
    "\n",
    "    np.random.seed(30)\n",
    "    r = np.exp(s@x.T)*R*dt\n",
    "    \n",
    "    f = np.sum(-c @ np.log(r)+ np.log(scipy.special.factorial(c))+ r)\n",
    "    df = gradient(x, s,c)\n",
    "    #print(\"Current f: \", f)\n",
    "    return f, df\n"
   ]
  },
  {
   "cell_type": "code",
   "execution_count": 8,
   "metadata": {},
   "outputs": [],
   "source": [
    "f = negloglike_lnp(x=w, c=c, s=s, dt=0.1, R=50)"
   ]
  },
  {
   "cell_type": "markdown",
   "metadata": {},
   "source": [
    "Fit receptive field maximizing the log likelihood"
   ]
  },
  {
   "cell_type": "code",
   "execution_count": 9,
   "metadata": {
    "scrolled": false
   },
   "outputs": [],
   "source": [
    "# insert your code here \n",
    "# ------------------------------------------\n",
    "# Estimate the receptive field by maximizing\n",
    "# the log-likelihood (or more commonly, \n",
    "# minimizing the negative log-likelihood).\n",
    "# \n",
    "# Tips: use scipy.optimize.minimize(). (1 pt)\n",
    "# ------------------------------------------\n",
    "res = scipy.optimize.minimize(negloglike_lnp, x0=w, args=(c,s), jac=True)"
   ]
  },
  {
   "cell_type": "code",
   "execution_count": 10,
   "metadata": {},
   "outputs": [
    {
     "data": {
      "image/png": "[encoded data removed]",
      "text/plain": [
       "<Figure size 1080x576 with 4 Axes>"
      ]
     },
     "metadata": {
      "needs_background": "light"
     },
     "output_type": "display_data"
    }
   ],
   "source": [
    "# insert your code here \n",
    "\n",
    "# ------------------------------------\n",
    "# Plot the ground truth and estimated \n",
    "# `w` side by side. (0.5 pts)\n",
    "# ------------------------------------\n",
    "\n",
    "fig, axs = plt.subplots(1,2, figsize= (15,8))\n",
    "result_task1 = res.jac.reshape((15,15))\n",
    "result_task1 = result_task1 /np.sum(result_task1)\n",
    "w_im = np.reshape(w, (15,15))\n",
    "plot0=axs[0].imshow(w_im, vmin=np.min(w), vmax=0.045, cmap='Greys')\n",
    "axs[0].set_title(\"True receptive field\")\n",
    "axs[0].set_xlabel(\"x_1[pixel]\")\n",
    "axs[0].set_ylabel(\"x_2[pixel]\")\n",
    "plt.colorbar(plot0, ax=axs[0])\n",
    "plot1= axs[1].imshow(result_task1, vmin =np.min(result_task1), vmax=0.045,cmap='Greys')\n",
    "axs[1].set_title(\"Estimated receptive field\")\n",
    "axs[1].set_xlabel(\"x_1[pixel]\")\n",
    "axs[1].set_ylabel(\"x_2[pixel]\")\n",
    "plt.colorbar(plot1)\n",
    "plt.show()"
   ]
  },
  {
   "cell_type": "markdown",
   "metadata": {},
   "source": [
    "## Task 2: Apply to real neuron\n",
    "\n",
    "Download the dataset for this task from Ilias (`nda_ex_6_data.mat`). It contains a stimulus matrix (`s`) in the same format you used before and the spike times. In addition, there is an array called `trigger` which contains the times at which the stimulus frames were swapped.\n",
    "\n",
    "* Generate an array of spike counts at the same temporal resolution as the stimulus frames\n",
    "* Fit the receptive field with time lags of 0 to 4 frames. Fit them one lag at a time (the ML fit is very sensitive to the number of parameters estimated and will not produce good results if you fit the full space-time receptive field for more than two time lags at once). \n",
    "* Plot the resulting filters\n",
    "\n",
    "*Grading: 2 pts*\n"
   ]
  },
  {
   "cell_type": "code",
   "execution_count": 11,
   "metadata": {},
   "outputs": [],
   "source": [
    "var = io.loadmat(r'data/nda_ex_6_data.mat')\n",
    "\n",
    "# t contains the spike times of the neuron\n",
    "t = var['DN_spiketimes'].flatten()    \n",
    "\n",
    "# trigger contains the times at which the stimulus flipped\n",
    "trigger = var['DN_triggertimes'].flatten()\n",
    "\n",
    "# contains the stimulus movie with black and white pixels\n",
    "s = var['DN_stim']\n",
    "s = s.reshape((300,1500)) # the shape of each frame is (20, 15)\n",
    "s = s[:,1:len(trigger)]"
   ]
  },
  {
   "cell_type": "markdown",
   "metadata": {},
   "source": [
    "Create vector of spike counts"
   ]
  },
  {
   "cell_type": "code",
   "execution_count": 12,
   "metadata": {},
   "outputs": [],
   "source": [
    "# insert your code here \n",
    "\n",
    "# ------------------------------------------\n",
    "# Bin the spike counts at the same temporal\n",
    "# resolution as the stimulus (0.5 pts)\n",
    "# ------------------------------------------\n",
    "c, bins = np.histogram(t, bins=trigger)"
   ]
  },
  {
   "cell_type": "markdown",
   "metadata": {},
   "source": [
    "Fit receptive field for each frame separately"
   ]
  },
  {
   "cell_type": "code",
   "execution_count": 13,
   "metadata": {},
   "outputs": [],
   "source": [
    "# insert your code here \n",
    "\n",
    "# ------------------------------------------\n",
    "# Fit the receptive field with time lags of\n",
    "# 0 to 4 frames separately (1 pt)\n",
    "# \n",
    "# The final receptive field (`w_hat`) should\n",
    "# be in the shape of (Dx * Dy, 5)\n",
    "# ------------------------------------------\n",
    "res = scipy.optimize.minimize(negloglike_lnp, x0=np.zeros(300), args=(c,s.T),  jac=True)\n",
    "res1 = scipy.optimize.minimize(negloglike_lnp, x0=np.zeros(300), args=(c[1:],s[:,:-1].T),  jac=True)\n",
    "res2 = scipy.optimize.minimize(negloglike_lnp, x0=np.zeros(300), args=(c[2:],s[:,:-2].T),  jac=True)\n",
    "res3 = scipy.optimize.minimize(negloglike_lnp, x0=np.zeros(300), args=(c[3:],s[:,:-3].T),  jac=True)\n",
    "res4 = scipy.optimize.minimize(negloglike_lnp, x0=np.zeros(300), args=(c[4:],s[:,:-4].T),  jac=True)"
   ]
  },
  {
   "cell_type": "markdown",
   "metadata": {},
   "source": [
    "Plot the frames one by one"
   ]
  },
  {
   "cell_type": "code",
   "execution_count": 14,
   "metadata": {},
   "outputs": [
    {
     "data": {
      "text/plain": [
       "[]"
      ]
     },
     "execution_count": 14,
     "metadata": {},
     "output_type": "execute_result"
    },
    {
     "data": {
      "image/png": "[encoded data removed]",
      "text/plain": [
       "<Figure size 720x288 with 5 Axes>"
      ]
     },
     "metadata": {},
     "output_type": "display_data"
    }
   ],
   "source": [
    "# insert your code here \n",
    "\n",
    "# --------------------------------------------\n",
    "# Plot all 5 frames of the fitted RFs (0.5 pt)\n",
    "# --------------------------------------------\n",
    "fig, axs = plt.subplots(1,5, figsize=(10,4))\n",
    "result = res.jac.reshape((20,15))\n",
    "result = result /np.sum(result)\n",
    "result1 = res1.jac.reshape((20,15))\n",
    "result1 = result1 /np.sum(result1)\n",
    "result2 = res2.jac.reshape((20,15))\n",
    "result2 = result2 /np.sum(result2)\n",
    "result3 = res3.jac.reshape((20,15))\n",
    "result3 = result3 /np.sum(result3)\n",
    "result4 = res4.jac.reshape((20,15))\n",
    "result4 = result4 /np.sum(result4)\n",
    "w = np.reshape(w, (15,15))\n",
    "axs[0].imshow(result, vmin=np.min(result), vmax=np.max(result),cmap=cm.gray)\n",
    "axs[0].set_title(\"delta=0\")\n",
    "axs[0].set_xticks([])\n",
    "axs[0].set_yticks([])\n",
    "\n",
    "axs[1].imshow(result1, vmin=np.min(result1), vmax=np.max(result1),cmap=cm.gray)\n",
    "axs[1].set_title(\"delta=1\")\n",
    "axs[1].set_xticks([])\n",
    "axs[1].set_yticks([])\n",
    "\n",
    "\n",
    "axs[2].imshow(result2, vmin = np.min(result2), vmax=np.max(result2),cmap=cm.gray)\n",
    "axs[2].set_title(\"delta=2\")\n",
    "axs[2].set_xticks([])\n",
    "axs[2].set_yticks([])\n",
    "\n",
    "axs[3].imshow(result3, vmin = np.min(result3), vmax=np.max(result3),cmap=cm.gray)\n",
    "axs[3].set_title(\"delta=3\")\n",
    "axs[3].set_xticks([])\n",
    "axs[3].set_yticks([])\n",
    "\n",
    "axs[4].imshow(result4, vmin = np.min(result4), vmax=np.max(result4),cmap=cm.gray)\n",
    "axs[4].set_title(\"delta=4\")\n",
    "axs[4].set_xticks([])\n",
    "axs[4].set_yticks([])"
   ]
  },
  {
   "cell_type": "markdown",
   "metadata": {},
   "source": [
    "## Task 3: Separate space/time components\n",
    "\n",
    "The receptive field of the neuron can be decomposed into a spatial and a temporal component. Because of the way we computed them, both are independent and the resulting spatio-temporal component is thus called separable. As discussed in the lecture, you can use singular-value decomposition to separate these two: \n",
    "\n",
    "$$\n",
    "W = u_1 s_1 v_1^T\n",
    "$$\n",
    "\n",
    "Here $u_1$ and $v_1$ are the singular vectors belonging to the 1st singular value $s_1$ and provide a long rank approximation of W, the array with all receptive fields. It is important that the mean is subtracted before computing the SVD.  \n",
    "\n",
    "Plot the first temporal component and the first spatial component. You can use a Python implementation of SVD. The results can look a bit puzzling, because the sign of the components is arbitrary.\n",
    "\n",
    "*Grading: 1 pts*"
   ]
  },
  {
   "cell_type": "code",
   "execution_count": 15,
   "metadata": {
    "scrolled": true
   },
   "outputs": [],
   "source": [
    "W = np.empty((300,0))\n",
    "for re in [res, res1, res2, res3, res4]:\n",
    "    W = np.append(W,re.jac[...,np.newaxis], axis=1)"
   ]
  },
  {
   "cell_type": "code",
   "execution_count": 16,
   "metadata": {},
   "outputs": [
    {
     "data": {
      "text/plain": [
       "Text(0.5, 0, 'Time lag')"
      ]
     },
     "execution_count": 16,
     "metadata": {},
     "output_type": "execute_result"
    },
    {
     "data": {
      "image/png": "[encoded data removed]",
      "text/plain": [
       "<Figure size 432x288 with 2 Axes>"
      ]
     },
     "metadata": {
      "needs_background": "light"
     },
     "output_type": "display_data"
    }
   ],
   "source": [
    "# insert your code here \n",
    "\n",
    "# --------------------------------------------\n",
    "# Apply SVD to the fitted receptive field,\n",
    "# you can use either numpy or sklearn (0.5 pt)\n",
    "# --------------------------------------------\n",
    "W = W - W.mean()\n",
    "u,w,v= np.linalg.svd(W, full_matrices=False)\n",
    "# --------------------------------------------\n",
    "# Plot the spatial and temporal components (0.5 pt)\n",
    "# --------------------------------------------\n",
    "fig, ax = plt.subplots(1,2)\n",
    "spatial = u[:,1]\n",
    "spatial = np.reshape(spatial,(20,15))\n",
    "ax[0].imshow(spatial, vmin=np.min(spatial), vmax=np.max(spatial),cmap=cm.gray)\n",
    "ax[0].set_title(\"Spatial component\")\n",
    "ax[0].set_yticks([])\n",
    "ax[0].set_xticks([])\n",
    "\n",
    "ax[1].plot(v[:,1])\n",
    "ax[1].set_title(\"Time course\")\n",
    "ax[1].set_xlabel(\"Time lag\")\n"
   ]
  },
  {
   "cell_type": "markdown",
   "metadata": {},
   "source": [
    "## Task 4: Regularized receptive field\n",
    "\n",
    "As you can see, maximum likelihood estimation of linear receptive fields can be quite noisy, if little data is available. \n",
    "\n",
    "To improve on this, one can regularize the receptive field vector and a term to the cost function\n",
    "\n",
    "\n",
    "$$\n",
    "C(w) = L(w) + \\alpha ||w||_p^2\n",
    "$$\n",
    "\n",
    "Here, the $p$ indicates which norm of $w$ is used: for $p=2$, this is shrinks all coefficient equally to zero; for $p=1$, it favors sparse solutions, a penality also known as lasso. Because the 1-norm is not smooth at zero, it is not as straightforward to implement \"by hand\". \n",
    "\n",
    "Use a toolbox with an implementation of the lasso-penalization and fit the receptive field. Possibly, you will have to try different values of the regularization parameter $\\alpha$. Plot your estimates from above and the lasso-estimates. How do they differ? What happens when you increase or decrease $alpha$?\n",
    "\n",
    "If you want to keep the Poisson noise model, you can use the implementation in [`pyglmnet`](https://pypi.python.org/pypi/pyglmnet). Otherwise, you can also resort to the linear model from `sklearn` which assumes Gaussian noise (which in my hands was much faster).\n",
    "\n",
    "*Grading: 2 pts*\n"
   ]
  },
  {
   "cell_type": "code",
   "execution_count": 17,
   "metadata": {},
   "outputs": [
    {
     "data": {
      "text/plain": [
       "Lasso(alpha=0.03)"
      ]
     },
     "execution_count": 17,
     "metadata": {},
     "output_type": "execute_result"
    }
   ],
   "source": [
    "from sklearn import linear_model\n",
    "\n",
    "# insert your code here \n",
    "\n",
    "# ------------------------------------------\n",
    "# Fit the receptive field with time lags of\n",
    "# 0 to 4 frames separately (the same as before) \n",
    "# with sklern or pyglmnet (1 pt)\n",
    "# ------------------------------------------\n",
    "lasso = linear_model.Lasso(alpha=0.03)\n",
    "lasso.fit(s.T, c)   \n",
    "lasso1 = linear_model.Lasso(alpha=0.03)\n",
    "lasso1.fit(s[:,:-1].T, c[1:]) \n",
    "lasso2 = linear_model.Lasso(alpha=0.03)\n",
    "lasso2.fit(s[:,:-2].T, c[2:]) \n",
    "lasso3 = linear_model.Lasso(alpha=0.03)\n",
    "lasso3.fit(s[:,:-3].T, c[3:]) \n",
    "lasso4 = linear_model.Lasso(alpha=0.03)\n",
    "lasso4.fit(s[:,:-4].T, c[4:]) "
   ]
  },
  {
   "cell_type": "code",
   "execution_count": 18,
   "metadata": {},
   "outputs": [
    {
     "data": {
      "text/plain": [
       "Text(-72, -5, 'alpha =0.03')"
      ]
     },
     "execution_count": 18,
     "metadata": {},
     "output_type": "execute_result"
    },
    {
     "data": {
      "image/png": "[encoded data removed]",
      "text/plain": [
       "<Figure size 1080x720 with 10 Axes>"
      ]
     },
     "metadata": {},
     "output_type": "display_data"
    }
   ],
   "source": [
    "# insert your code here \n",
    "\n",
    "# -------------------------------------------------\n",
    "# Plot all 5 frames of the fitted RFs, compare them \n",
    "# with the ones without regularization (0.5 pt)\n",
    "# -------------------------------------------------\n",
    "\n",
    "res_sklearn = lasso.coef_.reshape((20,15))\n",
    "res1_sklearn = lasso1.coef_.reshape((20,15))\n",
    "res2_sklearn = lasso2.coef_.reshape((20,15))\n",
    "res3_sklearn = lasso3.coef_.reshape((20,15))\n",
    "res4_sklearn = lasso4.coef_.reshape((20,15))\n",
    "fig, ax = plt.subplots(2,5, figsize=(15, 10))\n",
    "\n",
    "ax[0,0].imshow(result, vmin=np.min(result), vmax=np.max(result))\n",
    "ax[0,0].set_title(\"delta=0\")\n",
    "ax[0][0].set_xticks([])\n",
    "ax[0][0].set_yticks([])\n",
    "\n",
    "ax[0,1].imshow(result1, vmin=np.min(result1), vmax=np.max(result1))\n",
    "ax[0,1].set_title(\"delta=1\")\n",
    "ax[0][1].set_xticks([])\n",
    "ax[0][1].set_yticks([])\n",
    "\n",
    "ax[0,2].imshow(result2, vmin = np.min(result2), vmax=np.max(result2))\n",
    "ax[0,2].set_title(\"delta=2\")\n",
    "ax[0][2].set_xticks([])\n",
    "ax[0][2].set_yticks([])\n",
    "\n",
    "ax[0,3].imshow(result3, vmin = np.min(result3), vmax=np.max(result3))\n",
    "ax[0,3].set_title(\"delta=3\")\n",
    "ax[0][3].set_xticks([])\n",
    "ax[0][3].set_yticks([])\n",
    "\n",
    "ax[0,4].imshow(result4, vmin = np.min(result4), vmax=np.max(result4))\n",
    "ax[0,4].set_title(\"delta=4\")\n",
    "ax[0][4].set_xticks([])\n",
    "ax[0][4].set_yticks([])\n",
    "\n",
    "\n",
    "res_sklearn_all = np.array([res_sklearn, res1_sklearn, res2_sklearn, res3_sklearn, res4_sklearn])\n",
    "\n",
    "ax[1,0].imshow(res_sklearn, vmin=np.min(res_sklearn_all), vmax=np.max(res_sklearn_all))\n",
    "ax[1,0].set_yticks([])\n",
    "ax[1,0].set_xticks([])\n",
    "\n",
    "\n",
    "ax[1,1].imshow(res1_sklearn, vmin=np.min(res_sklearn_all), vmax=np.max(res_sklearn_all))\n",
    "ax[1,1].set_yticks([])\n",
    "ax[1,1].set_xticks([])\n",
    "\n",
    "ax[1,2].imshow(res2_sklearn, vmin=np.min(res_sklearn_all), vmax=np.max(res_sklearn_all))\n",
    "ax[1,2].set_yticks([])\n",
    "ax[1,2].set_xticks([])\n",
    "\n",
    "ax[1,3].imshow(res3_sklearn, vmin=np.min(res_sklearn_all), vmax=np.max(res_sklearn_all))\n",
    "ax[1,3].set_yticks([])\n",
    "ax[1,3].set_xticks([])\n",
    "\n",
    "ax[1,4].imshow(res4_sklearn, vmin=np.min(res_sklearn_all), vmax=np.max(res_sklearn_all))\n",
    "ax[1,4].set_yticks([])\n",
    "ax[1,4].set_xticks([])\n",
    "plt.text(-72, -5, \"alpha =0.03\")\n"
   ]
  }
 ],
 "metadata": {
  "anaconda-cloud": {},
  "kernelspec": {
   "display_name": "Python 3.8.8 ('base')",
   "language": "python",
   "name": "python3"
  },
  "language_info": {
   "codemirror_mode": {
    "name": "ipython",
    "version": 3
   },
   "file_extension": ".py",
   "mimetype": "text/x-python",
   "name": "python",
   "nbconvert_exporter": "python",
   "pygments_lexer": "ipython3",
   "version": "3.8.8"
  },
  "nteract": {
   "version": "0.13.0"
  },
  "vscode": {
   "interpreter": {
    "hash": "6b653cce55b49036c6addb2704e0494e1a69bc998590e4b3eca4f60dd3d1794b"
   }
  }
 },
 "nbformat": 4,
 "nbformat_minor": 1
}
